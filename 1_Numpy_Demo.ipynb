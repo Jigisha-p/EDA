{
  "cells": [
    {
      "cell_type": "markdown",
      "metadata": {
        "id": "gLS9FCcZq1BT"
      },
      "source": [
        "### Basic functions \n",
        "1. array\n",
        "2. zeros\n",
        "3. ones\n",
        "4. empty\n",
        "5. arange\n",
        "6. reshape\n",
        "7. linspace"
      ]
    },
    {
      "cell_type": "code",
      "execution_count": 1,
      "metadata": {
        "id": "TspmB7L6onKT"
      },
      "outputs": [],
      "source": [
        "import numpy as np\n"
      ]
    },
    {
      "cell_type": "code",
      "execution_count": 2,
      "metadata": {
        "id": "WRbP7gNwotvD"
      },
      "outputs": [],
      "source": [
        "first_numpy_array=np.array([1,2,3,4])"
      ]
    },
    {
      "cell_type": "code",
      "execution_count": 3,
      "metadata": {
        "id": "oQAx1Uzgo_AJ"
      },
      "outputs": [
        {
          "name": "stdout",
          "output_type": "stream",
          "text": [
            "[1 2 3 4]\n"
          ]
        }
      ],
      "source": [
        "print(first_numpy_array)"
      ]
    },
    {
      "cell_type": "code",
      "execution_count": 4,
      "metadata": {
        "id": "Bd5yuoerpCPD"
      },
      "outputs": [
        {
          "data": {
            "text/plain": [
              "array([[0., 0., 0.],\n",
              "       [0., 0., 0.],\n",
              "       [0., 0., 0.]])"
            ]
          },
          "execution_count": 4,
          "metadata": {},
          "output_type": "execute_result"
        }
      ],
      "source": [
        "array_with_zeros=np.zeros((3,3))\n",
        "array_with_zeros"
      ]
    },
    {
      "cell_type": "code",
      "execution_count": 5,
      "metadata": {
        "id": "KJaJT4UzpKwl"
      },
      "outputs": [
        {
          "data": {
            "text/plain": [
              "array([[1., 1., 1.],\n",
              "       [1., 1., 1.],\n",
              "       [1., 1., 1.]])"
            ]
          },
          "execution_count": 5,
          "metadata": {},
          "output_type": "execute_result"
        }
      ],
      "source": [
        "array_with_ones=np.ones((3,3))\n",
        "array_with_ones"
      ]
    },
    {
      "cell_type": "code",
      "execution_count": 6,
      "metadata": {
        "colab": {
          "base_uri": "https://localhost:8080/"
        },
        "id": "1r4bXAG4pSLt",
        "outputId": "e21fbc95-c05f-4cd2-f405-58c75bc51a4e"
      },
      "outputs": [
        {
          "data": {
            "text/plain": [
              "array([[-2.68156159e+154, -2.68156159e+154,  2.25827937e-314],\n",
              "       [ 2.25828098e-314, -2.68156159e+154, -2.68156159e+154]])"
            ]
          },
          "execution_count": 6,
          "metadata": {},
          "output_type": "execute_result"
        }
      ],
      "source": [
        "array_with_empty=np.empty((2,3))\n",
        "array_with_empty"
      ]
    },
    {
      "cell_type": "code",
      "execution_count": 7,
      "metadata": {
        "id": "IOn5UK3WpZAR"
      },
      "outputs": [
        {
          "data": {
            "text/plain": [
              "array([ 0,  1,  2,  3,  4,  5,  6,  7,  8,  9, 10, 11])"
            ]
          },
          "execution_count": 7,
          "metadata": {},
          "output_type": "execute_result"
        }
      ],
      "source": [
        "np_arange=np.arange(12)\n",
        "np_arange"
      ]
    },
    {
      "cell_type": "code",
      "execution_count": 8,
      "metadata": {
        "colab": {
          "base_uri": "https://localhost:8080/"
        },
        "id": "4GcBY00Rpj2h",
        "outputId": "9f169863-b84a-455e-f7bc-c7a50136bd7f"
      },
      "outputs": [
        {
          "data": {
            "text/plain": [
              "array([[ 0,  1,  2,  3],\n",
              "       [ 4,  5,  6,  7],\n",
              "       [ 8,  9, 10, 11]])"
            ]
          },
          "execution_count": 8,
          "metadata": {},
          "output_type": "execute_result"
        }
      ],
      "source": [
        "np_arange.reshape(3,4)"
      ]
    },
    {
      "cell_type": "code",
      "execution_count": 9,
      "metadata": {
        "colab": {
          "base_uri": "https://localhost:8080/"
        },
        "id": "1Qk8WE5jp_Gg",
        "outputId": "120e0479-6829-40df-8efa-9c93c3b438c9"
      },
      "outputs": [
        {
          "data": {
            "text/plain": [
              "array([[[ 0,  1],\n",
              "        [ 2,  3],\n",
              "        [ 4,  5]],\n",
              "\n",
              "       [[ 6,  7],\n",
              "        [ 8,  9],\n",
              "        [10, 11]]])"
            ]
          },
          "execution_count": 9,
          "metadata": {},
          "output_type": "execute_result"
        }
      ],
      "source": [
        "np_arange.reshape(2,3,2)"
      ]
    },
    {
      "cell_type": "code",
      "execution_count": 10,
      "metadata": {
        "colab": {
          "base_uri": "https://localhost:8080/"
        },
        "id": "3eBJpPJtppTf",
        "outputId": "7d92aafd-3350-4c4d-b62a-a30abd1d914b"
      },
      "outputs": [
        {
          "data": {
            "text/plain": [
              "array([1.  , 2.25, 3.5 , 4.75, 6.  ])"
            ]
          },
          "execution_count": 10,
          "metadata": {},
          "output_type": "execute_result"
        }
      ],
      "source": [
        "np_linspce=np.linspace(1,6,5)\n",
        "np_linspce"
      ]
    },
    {
      "cell_type": "markdown",
      "metadata": {
        "id": "uCqwH_CNq7oS"
      },
      "source": [
        "### Numpy Array : Shapes and Axes "
      ]
    },
    {
      "cell_type": "code",
      "execution_count": 11,
      "metadata": {
        "colab": {
          "base_uri": "https://localhost:8080/"
        },
        "id": "6h1l_35Mp1b8",
        "outputId": "f98d5833-19e7-47e4-ec28-b79021081f4e"
      },
      "outputs": [
        {
          "data": {
            "text/plain": [
              "array(24)"
            ]
          },
          "execution_count": 11,
          "metadata": {},
          "output_type": "execute_result"
        }
      ],
      "source": [
        "np.array(24) # zero dimensional array"
      ]
    },
    {
      "cell_type": "code",
      "execution_count": 12,
      "metadata": {
        "id": "tqnrOfWFrRjG"
      },
      "outputs": [
        {
          "data": {
            "text/plain": [
              "array([1, 2, 3, 4])"
            ]
          },
          "execution_count": 12,
          "metadata": {},
          "output_type": "execute_result"
        }
      ],
      "source": [
        "np.array([1,2,3,4]) # one dimensional array"
      ]
    },
    {
      "cell_type": "code",
      "execution_count": 13,
      "metadata": {
        "colab": {
          "base_uri": "https://localhost:8080/"
        },
        "id": "zCzQktpGrWo7",
        "outputId": "46f68dab-7929-46d4-f7de-4f5f885e4766"
      },
      "outputs": [
        {
          "data": {
            "text/plain": [
              "array([[1, 1, 1],\n",
              "       [1, 2, 1]])"
            ]
          },
          "execution_count": 13,
          "metadata": {},
          "output_type": "execute_result"
        }
      ],
      "source": [
        "np.array([[1,1,1],[1,2,1]]) # one dimensional array"
      ]
    },
    {
      "cell_type": "code",
      "execution_count": 14,
      "metadata": {
        "id": "pb2qPK6qrfvW"
      },
      "outputs": [],
      "source": [
        "A=np.array([[[1,1,1],[2,2,2],[3,3,3],[4,4,4]]])"
      ]
    },
    {
      "cell_type": "code",
      "execution_count": 15,
      "metadata": {
        "colab": {
          "base_uri": "https://localhost:8080/"
        },
        "id": "TGEhx8Nzrqhs",
        "outputId": "063699e4-d3e7-4277-fc20-9c7a76078eae"
      },
      "outputs": [
        {
          "data": {
            "text/plain": [
              "(1, 4, 3)"
            ]
          },
          "execution_count": 15,
          "metadata": {},
          "output_type": "execute_result"
        }
      ],
      "source": [
        "A.shape"
      ]
    },
    {
      "cell_type": "code",
      "execution_count": 16,
      "metadata": {
        "colab": {
          "base_uri": "https://localhost:8080/"
        },
        "id": "NRq9MMpXr0eN",
        "outputId": "86e319d9-b310-46c0-e4ba-7495917fda66"
      },
      "outputs": [
        {
          "data": {
            "text/plain": [
              "3"
            ]
          },
          "execution_count": 16,
          "metadata": {},
          "output_type": "execute_result"
        }
      ],
      "source": [
        "A.ndim"
      ]
    },
    {
      "cell_type": "code",
      "execution_count": 17,
      "metadata": {
        "colab": {
          "base_uri": "https://localhost:8080/"
        },
        "id": "rbAVVQEMr2Om",
        "outputId": "cae3b2f3-4827-40c2-b5a9-c10245a12603"
      },
      "outputs": [
        {
          "data": {
            "text/plain": [
              "3"
            ]
          },
          "execution_count": 17,
          "metadata": {},
          "output_type": "execute_result"
        }
      ],
      "source": [
        "A.ndim"
      ]
    },
    {
      "cell_type": "markdown",
      "metadata": {
        "id": "4EDQD7CRsCiq"
      },
      "source": [
        "### Part-2"
      ]
    },
    {
      "cell_type": "code",
      "execution_count": 18,
      "metadata": {
        "colab": {
          "base_uri": "https://localhost:8080/"
        },
        "id": "NQlOZrHJr-6P",
        "outputId": "c6f5e423-ccc8-4215-e55c-d5df7e01969e"
      },
      "outputs": [
        {
          "data": {
            "text/plain": [
              "array([1, 2, 3, 4, 5, 6, 7, 8, 9])"
            ]
          },
          "execution_count": 18,
          "metadata": {},
          "output_type": "execute_result"
        }
      ],
      "source": [
        "B= np.array([x for x in range(1,10)])\n",
        "B"
      ]
    },
    {
      "cell_type": "code",
      "execution_count": 19,
      "metadata": {
        "colab": {
          "base_uri": "https://localhost:8080/"
        },
        "id": "ALoXXqbLsLOm",
        "outputId": "37e23eee-a333-4b99-d3d1-86081b08d729"
      },
      "outputs": [
        {
          "data": {
            "text/plain": [
              "array([[1, 2, 3],\n",
              "       [4, 5, 6],\n",
              "       [7, 8, 9]])"
            ]
          },
          "execution_count": 19,
          "metadata": {},
          "output_type": "execute_result"
        }
      ],
      "source": [
        "B.reshape(3,3)"
      ]
    },
    {
      "cell_type": "code",
      "execution_count": 20,
      "metadata": {
        "id": "XIUSRNl0sN30"
      },
      "outputs": [],
      "source": [
        "C= np.array([x for x in range(1,13)])"
      ]
    },
    {
      "cell_type": "code",
      "execution_count": 21,
      "metadata": {
        "colab": {
          "base_uri": "https://localhost:8080/"
        },
        "id": "or2VypX0sV52",
        "outputId": "055a9b8e-21e0-4985-9bc1-f479c1fe530d"
      },
      "outputs": [
        {
          "data": {
            "text/plain": [
              "array([[[ 1,  2,  3],\n",
              "        [ 4,  5,  6]],\n",
              "\n",
              "       [[ 7,  8,  9],\n",
              "        [10, 11, 12]]])"
            ]
          },
          "execution_count": 21,
          "metadata": {},
          "output_type": "execute_result"
        }
      ],
      "source": [
        "C.reshape(2,2,3)"
      ]
    },
    {
      "cell_type": "code",
      "execution_count": 22,
      "metadata": {
        "colab": {
          "base_uri": "https://localhost:8080/"
        },
        "id": "BHIikTJcsc-a",
        "outputId": "e13c5901-1a9d-4a74-8f9e-74138ede58b7"
      },
      "outputs": [
        {
          "data": {
            "text/plain": [
              "array([[[ 1,  2],\n",
              "        [ 3,  4]],\n",
              "\n",
              "       [[ 5,  6],\n",
              "        [ 7,  8]],\n",
              "\n",
              "       [[ 9, 10],\n",
              "        [11, 12]]])"
            ]
          },
          "execution_count": 22,
          "metadata": {},
          "output_type": "execute_result"
        }
      ],
      "source": [
        "C.reshape(3,2,2)"
      ]
    },
    {
      "cell_type": "code",
      "execution_count": 23,
      "metadata": {
        "colab": {
          "base_uri": "https://localhost:8080/"
        },
        "id": "KhbCSonTshet",
        "outputId": "d8071277-0b7a-471c-9ee8-18a0ed14b420"
      },
      "outputs": [
        {
          "data": {
            "text/plain": [
              "array([[[ 1,  2,  3],\n",
              "        [ 4,  5,  6]],\n",
              "\n",
              "       [[ 7,  8,  9],\n",
              "        [10, 11, 12]]])"
            ]
          },
          "execution_count": 23,
          "metadata": {},
          "output_type": "execute_result"
        }
      ],
      "source": [
        "C.reshape(2,2,-1) #finds the 3rd needed dimension "
      ]
    },
    {
      "cell_type": "code",
      "execution_count": 24,
      "metadata": {
        "colab": {
          "base_uri": "https://localhost:8080/"
        },
        "id": "jCI1aSzLsrPI",
        "outputId": "848cc8c7-d42b-4b8d-8f31-8dbad3f20c03"
      },
      "outputs": [
        {
          "data": {
            "text/plain": [
              "array([ 1,  2,  3,  4,  5,  6,  7,  8,  9, 10, 11, 12])"
            ]
          },
          "execution_count": 24,
          "metadata": {},
          "output_type": "execute_result"
        }
      ],
      "source": [
        "C.reshape(-1) # flatten"
      ]
    },
    {
      "cell_type": "markdown",
      "metadata": {
        "id": "lWPr96vHs3NM"
      },
      "source": [
        "### Maths operations"
      ]
    },
    {
      "cell_type": "code",
      "execution_count": 25,
      "metadata": {
        "id": "CWlScoCLs6ef"
      },
      "outputs": [],
      "source": [
        "A= np.array([[1,2,1],[2,2,3]])\n",
        "B= np.array([3,4,5])"
      ]
    },
    {
      "cell_type": "code",
      "execution_count": 26,
      "metadata": {
        "colab": {
          "base_uri": "https://localhost:8080/"
        },
        "id": "fbZTMnFvtFPd",
        "outputId": "27aff2c2-a1f0-47d2-8ffd-97a0b8e149f5"
      },
      "outputs": [
        {
          "data": {
            "text/plain": [
              "array([[1, 2, 1],\n",
              "       [2, 2, 3]])"
            ]
          },
          "execution_count": 26,
          "metadata": {},
          "output_type": "execute_result"
        }
      ],
      "source": [
        "A"
      ]
    },
    {
      "cell_type": "code",
      "execution_count": 27,
      "metadata": {
        "colab": {
          "base_uri": "https://localhost:8080/"
        },
        "id": "siFCQcQJtHdm",
        "outputId": "f7347a71-9ad1-4602-b8ae-f1abd4847ddb"
      },
      "outputs": [
        {
          "data": {
            "text/plain": [
              "array([3, 4, 5])"
            ]
          },
          "execution_count": 27,
          "metadata": {},
          "output_type": "execute_result"
        }
      ],
      "source": [
        "B"
      ]
    },
    {
      "cell_type": "code",
      "execution_count": 28,
      "metadata": {
        "colab": {
          "base_uri": "https://localhost:8080/"
        },
        "id": "DLjPL2u_tIgi",
        "outputId": "9460e3b5-a290-4588-dab8-eec834db20e1"
      },
      "outputs": [
        {
          "data": {
            "text/plain": [
              "array([[4, 6, 6],\n",
              "       [5, 6, 8]])"
            ]
          },
          "execution_count": 28,
          "metadata": {},
          "output_type": "execute_result"
        }
      ],
      "source": [
        "np.add(A,B)"
      ]
    },
    {
      "cell_type": "code",
      "execution_count": 29,
      "metadata": {
        "colab": {
          "base_uri": "https://localhost:8080/"
        },
        "id": "iJnDqA4MtPIV",
        "outputId": "8c0d86ad-846f-4260-b1d2-ffa43be1d00b"
      },
      "outputs": [
        {
          "data": {
            "text/plain": [
              "array([[-2, -2, -4],\n",
              "       [-1, -2, -2]])"
            ]
          },
          "execution_count": 29,
          "metadata": {},
          "output_type": "execute_result"
        }
      ],
      "source": [
        "np.subtract(A,B)"
      ]
    },
    {
      "cell_type": "code",
      "execution_count": 30,
      "metadata": {
        "colab": {
          "base_uri": "https://localhost:8080/"
        },
        "id": "4w9mD-cMtSG6",
        "outputId": "ee9a442b-59d9-4433-82ad-8281e434a295"
      },
      "outputs": [
        {
          "data": {
            "text/plain": [
              "array([[ 3,  8,  5],\n",
              "       [ 6,  8, 15]])"
            ]
          },
          "execution_count": 30,
          "metadata": {},
          "output_type": "execute_result"
        }
      ],
      "source": [
        "np.multiply(A,B)"
      ]
    },
    {
      "cell_type": "code",
      "execution_count": 31,
      "metadata": {
        "colab": {
          "base_uri": "https://localhost:8080/"
        },
        "id": "OZMpsjVmtV9Y",
        "outputId": "5169abb5-ca6a-4e0f-e7f5-3717b5755d69"
      },
      "outputs": [
        {
          "data": {
            "text/plain": [
              "array([[0.33333333, 0.5       , 0.2       ],\n",
              "       [0.66666667, 0.5       , 0.6       ]])"
            ]
          },
          "execution_count": 31,
          "metadata": {},
          "output_type": "execute_result"
        }
      ],
      "source": [
        "np.divide(A,B)"
      ]
    },
    {
      "cell_type": "code",
      "execution_count": 32,
      "metadata": {
        "colab": {
          "base_uri": "https://localhost:8080/"
        },
        "id": "w858dOsBtami",
        "outputId": "a9e9de14-d0d7-4415-a1b3-f235d9c9de21"
      },
      "outputs": [
        {
          "data": {
            "text/plain": [
              "array([[1, 4, 1],\n",
              "       [4, 4, 9]])"
            ]
          },
          "execution_count": 32,
          "metadata": {},
          "output_type": "execute_result"
        }
      ],
      "source": [
        "np.power(A,2)"
      ]
    },
    {
      "cell_type": "code",
      "execution_count": 33,
      "metadata": {
        "colab": {
          "base_uri": "https://localhost:8080/"
        },
        "id": "-JfXz9Fntfww",
        "outputId": "a21d8b97-bea9-4dc7-af53-3416235fe0cb"
      },
      "outputs": [
        {
          "data": {
            "text/plain": [
              "array([[  1,  16,   1],\n",
              "       [  8,  16, 243]])"
            ]
          },
          "execution_count": 33,
          "metadata": {},
          "output_type": "execute_result"
        }
      ],
      "source": [
        "np.power(A,B)"
      ]
    },
    {
      "cell_type": "markdown",
      "metadata": {
        "id": "tGNcTec-tq9Y"
      },
      "source": [
        "### Conditional Logic"
      ]
    },
    {
      "cell_type": "code",
      "execution_count": 34,
      "metadata": {
        "colab": {
          "base_uri": "https://localhost:8080/"
        },
        "id": "J-DxAExytusj",
        "outputId": "aef119ca-3445-4af9-e55c-59e18c23848c"
      },
      "outputs": [
        {
          "data": {
            "text/plain": [
              "array([0, 1, 2, 3, 4, 5, 6, 7, 8, 9])"
            ]
          },
          "execution_count": 34,
          "metadata": {},
          "output_type": "execute_result"
        }
      ],
      "source": [
        "x=np.array([i for i in range(10)])\n",
        "x"
      ]
    },
    {
      "cell_type": "code",
      "execution_count": 35,
      "metadata": {
        "colab": {
          "base_uri": "https://localhost:8080/"
        },
        "id": "k95uwAPct1x4",
        "outputId": "8f79feac-437e-4473-8161-8021ef7e846d"
      },
      "outputs": [
        {
          "data": {
            "text/plain": [
              "array(['Even', 'Odd', 'Even', 'Odd', 'Even', 'Odd', 'Even', 'Odd', 'Even',\n",
              "       'Odd'], dtype='<U4')"
            ]
          },
          "execution_count": 35,
          "metadata": {},
          "output_type": "execute_result"
        }
      ],
      "source": [
        "np.where(x%2==0, 'Even', 'Odd')"
      ]
    },
    {
      "cell_type": "code",
      "execution_count": 36,
      "metadata": {
        "colab": {
          "base_uri": "https://localhost:8080/"
        },
        "id": "cEu_HWj3ttWf",
        "outputId": "5cd77e9f-0e27-46ce-a6c8-49ccf4a73f10"
      },
      "outputs": [
        {
          "data": {
            "text/plain": [
              "array([  0,   1,   4,   9,  16,   5, 216, 343, 512, 729])"
            ]
          },
          "execution_count": 36,
          "metadata": {},
          "output_type": "execute_result"
        }
      ],
      "source": [
        "condlist =[x<5,x>5]\n",
        "choicelist=[x**2,x**3]\n",
        "np.select(condlist,choicelist,default=x)"
      ]
    },
    {
      "cell_type": "markdown",
      "metadata": {
        "id": "Avpmla8XxYKM"
      },
      "source": [
        "### Common maths and Stats Functions"
      ]
    },
    {
      "cell_type": "code",
      "execution_count": 37,
      "metadata": {
        "colab": {
          "base_uri": "https://localhost:8080/"
        },
        "id": "2RtVwGetxXcW",
        "outputId": "82277fb7-b48b-4e8d-f4ff-ce81b55c0d96"
      },
      "outputs": [
        {
          "data": {
            "text/plain": [
              "array([[ 4,  3,  2],\n",
              "       [10,  1,  0],\n",
              "       [ 5,  8, 24]])"
            ]
          },
          "execution_count": 37,
          "metadata": {},
          "output_type": "execute_result"
        }
      ],
      "source": [
        "arr=np.array([[4,3,2],[10,1,0],[5,8,24]])\n",
        "arr"
      ]
    },
    {
      "cell_type": "code",
      "execution_count": 38,
      "metadata": {
        "colab": {
          "base_uri": "https://localhost:8080/"
        },
        "id": "L3rdaiU8xpyR",
        "outputId": "d83c5391-2631-4b3e-8d02-9b3fb17afbd5"
      },
      "outputs": [
        {
          "data": {
            "text/plain": [
              "0"
            ]
          },
          "execution_count": 38,
          "metadata": {},
          "output_type": "execute_result"
        }
      ],
      "source": [
        "np.amin(arr)"
      ]
    },
    {
      "cell_type": "code",
      "execution_count": 39,
      "metadata": {
        "colab": {
          "base_uri": "https://localhost:8080/"
        },
        "id": "V1ec4Gl6xyFR",
        "outputId": "5456cda2-7a7a-4f1d-ae53-04a5b90b7918"
      },
      "outputs": [
        {
          "data": {
            "text/plain": [
              "array([4, 1, 0])"
            ]
          },
          "execution_count": 39,
          "metadata": {},
          "output_type": "execute_result"
        }
      ],
      "source": [
        "np.amin(arr,axis=0)"
      ]
    },
    {
      "cell_type": "code",
      "execution_count": 40,
      "metadata": {
        "colab": {
          "base_uri": "https://localhost:8080/"
        },
        "id": "mEBJlYgDx1P8",
        "outputId": "5cdfc0ff-2a45-43ac-dd2f-8e14e40dcc94"
      },
      "outputs": [
        {
          "data": {
            "text/plain": [
              "array([2, 0, 5])"
            ]
          },
          "execution_count": 40,
          "metadata": {},
          "output_type": "execute_result"
        }
      ],
      "source": [
        "np.amin(arr,axis=1)"
      ]
    },
    {
      "cell_type": "code",
      "execution_count": 41,
      "metadata": {
        "colab": {
          "base_uri": "https://localhost:8080/"
        },
        "id": "k_lo3dcnx5-j",
        "outputId": "20ea6b8d-d9c3-4452-ce2d-32921dedcbfc"
      },
      "outputs": [
        {
          "data": {
            "text/plain": [
              "24"
            ]
          },
          "execution_count": 41,
          "metadata": {},
          "output_type": "execute_result"
        }
      ],
      "source": [
        "np.max(arr)"
      ]
    },
    {
      "cell_type": "code",
      "execution_count": 42,
      "metadata": {
        "colab": {
          "base_uri": "https://localhost:8080/"
        },
        "id": "ehbg_KOryAEW",
        "outputId": "57076441-b026-43b3-9b0f-daafe59ba306"
      },
      "outputs": [
        {
          "data": {
            "text/plain": [
              "array([10,  8, 24])"
            ]
          },
          "execution_count": 42,
          "metadata": {},
          "output_type": "execute_result"
        }
      ],
      "source": [
        "np.amax(arr,axis=0)"
      ]
    },
    {
      "cell_type": "code",
      "execution_count": 43,
      "metadata": {
        "colab": {
          "base_uri": "https://localhost:8080/"
        },
        "id": "5pwI01k0yCZb",
        "outputId": "330677d9-ac9f-4d0e-ba3b-2aedd7ba8ac7"
      },
      "outputs": [
        {
          "data": {
            "text/plain": [
              "array([ 4, 10, 24])"
            ]
          },
          "execution_count": 43,
          "metadata": {},
          "output_type": "execute_result"
        }
      ],
      "source": [
        "np.amax(arr,axis=1)"
      ]
    },
    {
      "cell_type": "markdown",
      "metadata": {
        "id": "piua6Q6Vyr5m"
      },
      "source": [
        "### Similar functions used with axis"
      ]
    },
    {
      "cell_type": "code",
      "execution_count": 44,
      "metadata": {
        "colab": {
          "base_uri": "https://localhost:8080/"
        },
        "id": "Tcc2kIL8yiBd",
        "outputId": "c3cf0a90-c5d4-40de-e0e2-728172204366"
      },
      "outputs": [
        {
          "data": {
            "text/plain": [
              "4.0"
            ]
          },
          "execution_count": 44,
          "metadata": {},
          "output_type": "execute_result"
        }
      ],
      "source": [
        "np.median(arr)"
      ]
    },
    {
      "cell_type": "code",
      "execution_count": 45,
      "metadata": {
        "colab": {
          "base_uri": "https://localhost:8080/"
        },
        "id": "HyUfJxKuyj6r",
        "outputId": "c155fb6d-176f-4755-bd8b-b7ead0b49bbb"
      },
      "outputs": [
        {
          "data": {
            "text/plain": [
              "6.333333333333333"
            ]
          },
          "execution_count": 45,
          "metadata": {},
          "output_type": "execute_result"
        }
      ],
      "source": [
        "np.mean(arr)"
      ]
    },
    {
      "cell_type": "code",
      "execution_count": 46,
      "metadata": {
        "colab": {
          "base_uri": "https://localhost:8080/"
        },
        "id": "6lLmuub4ymtO",
        "outputId": "b9fb14aa-e952-4802-a19b-bb375bf1a9ad"
      },
      "outputs": [
        {
          "data": {
            "text/plain": [
              "6.944222218666553"
            ]
          },
          "execution_count": 46,
          "metadata": {},
          "output_type": "execute_result"
        }
      ],
      "source": [
        "np.std(arr)"
      ]
    },
    {
      "cell_type": "code",
      "execution_count": 47,
      "metadata": {
        "colab": {
          "base_uri": "https://localhost:8080/"
        },
        "id": "dZceuplbyol_",
        "outputId": "1791a1c3-4fe4-406e-dafb-0e01f0fa416f"
      },
      "outputs": [
        {
          "data": {
            "text/plain": [
              "48.22222222222222"
            ]
          },
          "execution_count": 47,
          "metadata": {},
          "output_type": "execute_result"
        }
      ],
      "source": [
        "np.var(arr)"
      ]
    },
    {
      "cell_type": "code",
      "execution_count": 48,
      "metadata": {
        "colab": {
          "base_uri": "https://localhost:8080/"
        },
        "id": "N63QB8mByVvT",
        "outputId": "de026d60-f5b2-4743-e88e-8ed279d56671"
      },
      "outputs": [
        {
          "data": {
            "text/plain": [
              "4.0"
            ]
          },
          "execution_count": 48,
          "metadata": {},
          "output_type": "execute_result"
        }
      ],
      "source": [
        "np.percentile(arr,50) # value under 50th percentile"
      ]
    },
    {
      "cell_type": "code",
      "execution_count": 49,
      "metadata": {
        "colab": {
          "base_uri": "https://localhost:8080/"
        },
        "id": "DzChrNWyyNQ8",
        "outputId": "6160c49d-a0de-432f-ac29-79d0ff16ec3c"
      },
      "outputs": [
        {
          "data": {
            "text/plain": [
              "array([0.        , 0.5       , 0.70710678, 0.8660254 , 1.        ])"
            ]
          },
          "execution_count": 49,
          "metadata": {},
          "output_type": "execute_result"
        }
      ],
      "source": [
        "deg=np.array([0,30,45,60,90])\n",
        "np.sin(deg*np.pi/180) # similarly cos, tan"
      ]
    },
    {
      "cell_type": "code",
      "execution_count": 50,
      "metadata": {
        "id": "piT_ZOYl4Hpw"
      },
      "outputs": [
        {
          "data": {
            "text/plain": [
              "' inverse trignometric functions\\narcsin\\narccos\\narctan'"
            ]
          },
          "execution_count": 50,
          "metadata": {},
          "output_type": "execute_result"
        }
      ],
      "source": [
        "''' inverse trignometric functions\n",
        "arcsin\n",
        "arccos\n",
        "arctan'''"
      ]
    },
    {
      "cell_type": "code",
      "execution_count": 51,
      "metadata": {
        "id": "mJba_b_84UqQ"
      },
      "outputs": [],
      "source": [
        "A= np.array([0.1,0.8,-2.2,-9.87])\n"
      ]
    },
    {
      "cell_type": "code",
      "execution_count": 52,
      "metadata": {
        "colab": {
          "base_uri": "https://localhost:8080/"
        },
        "id": "b5MyPOX44b-S",
        "outputId": "b216feff-bb84-4b1e-bea2-5d20b0313ccb"
      },
      "outputs": [
        {
          "data": {
            "text/plain": [
              "array([  0.,   0.,  -3., -10.])"
            ]
          },
          "execution_count": 52,
          "metadata": {},
          "output_type": "execute_result"
        }
      ],
      "source": [
        "np.floor(A)"
      ]
    },
    {
      "cell_type": "code",
      "execution_count": 53,
      "metadata": {
        "colab": {
          "base_uri": "https://localhost:8080/"
        },
        "id": "WNYO4gGP4ecv",
        "outputId": "88d64f9c-7d43-438e-920e-af5f8681e993"
      },
      "outputs": [
        {
          "data": {
            "text/plain": [
              "array([ 1.,  1., -2., -9.])"
            ]
          },
          "execution_count": 53,
          "metadata": {},
          "output_type": "execute_result"
        }
      ],
      "source": [
        "np.ceil(A)"
      ]
    },
    {
      "cell_type": "markdown",
      "metadata": {
        "id": "FRDlUKsAUsGw"
      },
      "source": [
        "### Indexing & Slicing"
      ]
    },
    {
      "cell_type": "code",
      "execution_count": 54,
      "metadata": {
        "id": "W3xu00hqUxxx"
      },
      "outputs": [],
      "source": [
        "A1=np.array([1,2,3,4,5,6])\n",
        "A2=np.array([[1,2,3],[4,5,6]])\n",
        "A3=np.array([[[1,2,3],[4,5,6]],[[7,8,9],[10,11,12]]])"
      ]
    },
    {
      "cell_type": "code",
      "execution_count": 55,
      "metadata": {},
      "outputs": [
        {
          "data": {
            "text/plain": [
              "array([1, 2, 3, 4, 5, 6])"
            ]
          },
          "execution_count": 55,
          "metadata": {},
          "output_type": "execute_result"
        }
      ],
      "source": [
        "A1"
      ]
    },
    {
      "cell_type": "code",
      "execution_count": 56,
      "metadata": {
        "colab": {
          "base_uri": "https://localhost:8080/"
        },
        "id": "ow-jPnxlVyW9",
        "outputId": "fa4668d0-8309-4a2c-e65d-c133eec88970"
      },
      "outputs": [
        {
          "data": {
            "text/plain": [
              "1"
            ]
          },
          "execution_count": 56,
          "metadata": {},
          "output_type": "execute_result"
        }
      ],
      "source": [
        "A1[0]"
      ]
    },
    {
      "cell_type": "code",
      "execution_count": 57,
      "metadata": {
        "colab": {
          "base_uri": "https://localhost:8080/"
        },
        "id": "TRS2ua3-V4Af",
        "outputId": "bc4d18ff-3a8c-4c2d-b164-a2093cbdc5bb"
      },
      "outputs": [
        {
          "data": {
            "text/plain": [
              "4"
            ]
          },
          "execution_count": 57,
          "metadata": {},
          "output_type": "execute_result"
        }
      ],
      "source": [
        "A1[-3]"
      ]
    },
    {
      "cell_type": "code",
      "execution_count": 58,
      "metadata": {},
      "outputs": [
        {
          "data": {
            "text/plain": [
              "array([[1, 2, 3],\n",
              "       [4, 5, 6]])"
            ]
          },
          "execution_count": 58,
          "metadata": {},
          "output_type": "execute_result"
        }
      ],
      "source": [
        "A2"
      ]
    },
    {
      "cell_type": "code",
      "execution_count": 59,
      "metadata": {
        "colab": {
          "base_uri": "https://localhost:8080/"
        },
        "id": "_BHCE6AsV8uU",
        "outputId": "cd0d338c-cae1-41e6-c1e1-a5748fe86cc9"
      },
      "outputs": [
        {
          "data": {
            "text/plain": [
              "1"
            ]
          },
          "execution_count": 59,
          "metadata": {},
          "output_type": "execute_result"
        }
      ],
      "source": [
        "A2[0,0]"
      ]
    },
    {
      "cell_type": "code",
      "execution_count": 60,
      "metadata": {
        "colab": {
          "base_uri": "https://localhost:8080/"
        },
        "id": "Vhr6eK31WAkU",
        "outputId": "43fc705b-03a9-4ff7-f90b-33971cd02b2e"
      },
      "outputs": [
        {
          "data": {
            "text/plain": [
              "2"
            ]
          },
          "execution_count": 60,
          "metadata": {},
          "output_type": "execute_result"
        }
      ],
      "source": [
        "A2[0,1]"
      ]
    },
    {
      "cell_type": "code",
      "execution_count": 61,
      "metadata": {
        "colab": {
          "base_uri": "https://localhost:8080/"
        },
        "id": "S1Rxi__9WCqg",
        "outputId": "f5f99f87-7562-4697-e36e-03318567a998"
      },
      "outputs": [
        {
          "data": {
            "text/plain": [
              "6"
            ]
          },
          "execution_count": 61,
          "metadata": {},
          "output_type": "execute_result"
        }
      ],
      "source": [
        "A2[1,-1]"
      ]
    },
    {
      "cell_type": "code",
      "execution_count": 62,
      "metadata": {},
      "outputs": [
        {
          "data": {
            "text/plain": [
              "array([[1, 4],\n",
              "       [2, 5],\n",
              "       [3, 6]])"
            ]
          },
          "execution_count": 62,
          "metadata": {},
          "output_type": "execute_result"
        }
      ],
      "source": [
        "# Transponse\n",
        "A2.T"
      ]
    },
    {
      "cell_type": "code",
      "execution_count": 63,
      "metadata": {},
      "outputs": [
        {
          "data": {
            "text/plain": [
              "array([[1, 4],\n",
              "       [2, 5],\n",
              "       [3, 6]])"
            ]
          },
          "execution_count": 63,
          "metadata": {},
          "output_type": "execute_result"
        }
      ],
      "source": [
        "np.transpose(A2)"
      ]
    },
    {
      "cell_type": "code",
      "execution_count": 64,
      "metadata": {
        "colab": {
          "base_uri": "https://localhost:8080/"
        },
        "id": "VA1lXvbrWGph",
        "outputId": "ecc02de7-d4a2-49e2-9a16-3504d26f5357"
      },
      "outputs": [
        {
          "data": {
            "text/plain": [
              "6"
            ]
          },
          "execution_count": 64,
          "metadata": {},
          "output_type": "execute_result"
        }
      ],
      "source": [
        "A3[0,1,2]"
      ]
    },
    {
      "cell_type": "code",
      "execution_count": 65,
      "metadata": {
        "colab": {
          "base_uri": "https://localhost:8080/"
        },
        "id": "hxWhwL5xWMj2",
        "outputId": "43a06137-3d5e-455e-c87c-fad81c64f225"
      },
      "outputs": [
        {
          "data": {
            "text/plain": [
              "12"
            ]
          },
          "execution_count": 65,
          "metadata": {},
          "output_type": "execute_result"
        }
      ],
      "source": [
        "A3[1,1,-1]"
      ]
    },
    {
      "cell_type": "code",
      "execution_count": 66,
      "metadata": {
        "colab": {
          "base_uri": "https://localhost:8080/"
        },
        "id": "0M1uO6XNWRC_",
        "outputId": "f0e928bf-cb14-423b-d99e-c352a702086d"
      },
      "outputs": [
        {
          "data": {
            "text/plain": [
              "array([2, 3, 4, 5, 6])"
            ]
          },
          "execution_count": 66,
          "metadata": {},
          "output_type": "execute_result"
        }
      ],
      "source": [
        "A1[1:]"
      ]
    },
    {
      "cell_type": "code",
      "execution_count": 67,
      "metadata": {
        "colab": {
          "base_uri": "https://localhost:8080/"
        },
        "id": "K6Hz8_16Wb37",
        "outputId": "5f1e8423-1128-4ef5-edee-5b703794909e"
      },
      "outputs": [
        {
          "data": {
            "text/plain": [
              "array([4, 5])"
            ]
          },
          "execution_count": 67,
          "metadata": {},
          "output_type": "execute_result"
        }
      ],
      "source": [
        "A1[3:5]"
      ]
    },
    {
      "cell_type": "code",
      "execution_count": 68,
      "metadata": {
        "colab": {
          "base_uri": "https://localhost:8080/"
        },
        "id": "tZ319BgUWd-h",
        "outputId": "10da46cc-726b-4530-fea8-ce6d1587d52b"
      },
      "outputs": [
        {
          "data": {
            "text/plain": [
              "array([4, 5])"
            ]
          },
          "execution_count": 68,
          "metadata": {},
          "output_type": "execute_result"
        }
      ],
      "source": [
        "A1[-3:-1]"
      ]
    },
    {
      "cell_type": "code",
      "execution_count": 69,
      "metadata": {
        "colab": {
          "base_uri": "https://localhost:8080/"
        },
        "id": "HzVSWBVQWgcI",
        "outputId": "6b6b906d-f853-419a-d08e-6a7e0bf503c6"
      },
      "outputs": [
        {
          "data": {
            "text/plain": [
              "array([5, 6])"
            ]
          },
          "execution_count": 69,
          "metadata": {},
          "output_type": "execute_result"
        }
      ],
      "source": [
        "A2[1,1:]"
      ]
    },
    {
      "cell_type": "code",
      "execution_count": 70,
      "metadata": {
        "colab": {
          "base_uri": "https://localhost:8080/"
        },
        "id": "fIvYDFzfWqlv",
        "outputId": "904e4aea-2018-4c53-c2da-4c874e5aa55a"
      },
      "outputs": [
        {
          "data": {
            "text/plain": [
              "array([[1, 2, 3]])"
            ]
          },
          "execution_count": 70,
          "metadata": {},
          "output_type": "execute_result"
        }
      ],
      "source": [
        "A2[-2:-3:-1]"
      ]
    },
    {
      "cell_type": "code",
      "execution_count": 71,
      "metadata": {},
      "outputs": [
        {
          "data": {
            "text/plain": [
              "array([[[ 1,  2,  3],\n",
              "        [ 4,  5,  6]],\n",
              "\n",
              "       [[ 7,  8,  9],\n",
              "        [10, 11, 12]]])"
            ]
          },
          "execution_count": 71,
          "metadata": {},
          "output_type": "execute_result"
        }
      ],
      "source": [
        "A3"
      ]
    },
    {
      "cell_type": "code",
      "execution_count": 72,
      "metadata": {
        "colab": {
          "base_uri": "https://localhost:8080/"
        },
        "id": "U_5RsSPsWx-e",
        "outputId": "30202cbd-c923-4190-a3af-d0b4b1a54eb6"
      },
      "outputs": [
        {
          "data": {
            "text/plain": [
              "array([[5, 6]])"
            ]
          },
          "execution_count": 72,
          "metadata": {},
          "output_type": "execute_result"
        }
      ],
      "source": [
        "A3[0,1:,1:]"
      ]
    },
    {
      "cell_type": "code",
      "execution_count": 73,
      "metadata": {},
      "outputs": [
        {
          "data": {
            "text/plain": [
              "array([10, 12])"
            ]
          },
          "execution_count": 73,
          "metadata": {},
          "output_type": "execute_result"
        }
      ],
      "source": [
        "A3[1,1,0::2]"
      ]
    }
  ],
  "metadata": {
    "colab": {
      "provenance": []
    },
    "kernelspec": {
      "display_name": "Python 3",
      "language": "python",
      "name": "python3"
    },
    "language_info": {
      "codemirror_mode": {
        "name": "ipython",
        "version": 3
      },
      "file_extension": ".py",
      "mimetype": "text/x-python",
      "name": "python",
      "nbconvert_exporter": "python",
      "pygments_lexer": "ipython3",
      "version": "3.10.6"
    },
    "vscode": {
      "interpreter": {
        "hash": "6d3455b64add104533d44b8de3a67406353957e0918ca2161a30cd043c50dfdc"
      }
    }
  },
  "nbformat": 4,
  "nbformat_minor": 0
}

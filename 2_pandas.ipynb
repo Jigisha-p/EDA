{
  "cells": [
    {
      "cell_type": "code",
      "execution_count": 1,
      "metadata": {
        "id": "dIU5iur1W6tl"
      },
      "outputs": [],
      "source": [
        "import pandas as pd"
      ]
    },
    {
      "cell_type": "markdown",
      "metadata": {
        "id": "a7x-nxOVYK1W"
      },
      "source": [
        "### Series (Column of a dataframe)\n",
        "\n",
        "List has default index starting from 0\n",
        "Series can have character(or cutomised) index"
      ]
    },
    {
      "cell_type": "code",
      "execution_count": 2,
      "metadata": {
        "id": "nWf6FXP7YNXZ"
      },
      "outputs": [],
      "source": [
        "l=[x for x in range(5)]"
      ]
    },
    {
      "cell_type": "code",
      "execution_count": 3,
      "metadata": {
        "id": "-z6dMGNmYTOH"
      },
      "outputs": [],
      "source": [
        "s=pd.Series(l)"
      ]
    },
    {
      "cell_type": "code",
      "execution_count": 4,
      "metadata": {
        "colab": {
          "base_uri": "https://localhost:8080/"
        },
        "id": "F23w1DwFYcEN",
        "outputId": "bee5d283-fc59-4028-8695-2dd54ba450ca"
      },
      "outputs": [
        {
          "data": {
            "text/plain": [
              "0    0\n",
              "1    1\n",
              "2    2\n",
              "3    3\n",
              "4    4\n",
              "dtype: int64"
            ]
          },
          "execution_count": 4,
          "metadata": {},
          "output_type": "execute_result"
        }
      ],
      "source": [
        "s"
      ]
    },
    {
      "cell_type": "code",
      "execution_count": 5,
      "metadata": {
        "colab": {
          "base_uri": "https://localhost:8080/"
        },
        "id": "XLoh8czbYd0p",
        "outputId": "c96a9c81-4efe-4a4b-fa8b-2fd52852e6d9"
      },
      "outputs": [
        {
          "data": {
            "text/plain": [
              "3"
            ]
          },
          "execution_count": 5,
          "metadata": {},
          "output_type": "execute_result"
        }
      ],
      "source": [
        "s[3]"
      ]
    },
    {
      "cell_type": "code",
      "execution_count": 6,
      "metadata": {
        "colab": {
          "base_uri": "https://localhost:8080/"
        },
        "id": "X04tueVoYfxG",
        "outputId": "be0dbc50-fbef-4b87-83a2-bb2362b25c36"
      },
      "outputs": [
        {
          "data": {
            "text/plain": [
              "a    0\n",
              "b    1\n",
              "c    2\n",
              "d    3\n",
              "e    4\n",
              "dtype: int64"
            ]
          },
          "execution_count": 6,
          "metadata": {},
          "output_type": "execute_result"
        }
      ],
      "source": [
        "# Series from list\n",
        "s=pd.Series(l,index=['a','b','c','d','e'])\n",
        "s"
      ]
    },
    {
      "cell_type": "code",
      "execution_count": 7,
      "metadata": {
        "colab": {
          "base_uri": "https://localhost:8080/"
        },
        "id": "xvUq5NCVYpai",
        "outputId": "dab66dd7-fe64-4094-9fa5-9e863c3fd4d8"
      },
      "outputs": [
        {
          "data": {
            "text/plain": [
              "3"
            ]
          },
          "execution_count": 7,
          "metadata": {},
          "output_type": "execute_result"
        }
      ],
      "source": [
        "s['d']"
      ]
    },
    {
      "cell_type": "code",
      "execution_count": 8,
      "metadata": {
        "colab": {
          "base_uri": "https://localhost:8080/"
        },
        "id": "LaffbjquYxEA",
        "outputId": "00b3a9f9-6609-456e-8b26-f17a7f53c3a2"
      },
      "outputs": [
        {
          "data": {
            "text/plain": [
              "a    1\n",
              "b    2\n",
              "c    3\n",
              "d    4\n",
              "dtype: int64"
            ]
          },
          "execution_count": 8,
          "metadata": {},
          "output_type": "execute_result"
        }
      ],
      "source": [
        "# Series from dictionary\n",
        "data={'a':1,'b':2,'c':3,'d':4}\n",
        "s=pd.Series(data)\n",
        "s"
      ]
    },
    {
      "cell_type": "code",
      "execution_count": 9,
      "metadata": {
        "colab": {
          "base_uri": "https://localhost:8080/"
        },
        "id": "DbN2yiwZZLnt",
        "outputId": "c746ca76-447d-4981-a0d9-08e5626fc65a"
      },
      "outputs": [
        {
          "data": {
            "text/plain": [
              "a    1\n",
              "b    2\n",
              "dtype: int64"
            ]
          },
          "execution_count": 9,
          "metadata": {},
          "output_type": "execute_result"
        }
      ],
      "source": [
        "s=pd.Series(data,index=['a','b'])\n",
        "s"
      ]
    },
    {
      "cell_type": "code",
      "execution_count": 10,
      "metadata": {
        "colab": {
          "base_uri": "https://localhost:8080/"
        },
        "id": "SwmWp_vPZRoI",
        "outputId": "f722020c-fc63-489e-e9d5-4ed03b12a2ea"
      },
      "outputs": [
        {
          "data": {
            "text/plain": [
              "a    1.0\n",
              "b    2.0\n",
              "c    3.0\n",
              "f    NaN\n",
              "dtype: float64"
            ]
          },
          "execution_count": 10,
          "metadata": {},
          "output_type": "execute_result"
        }
      ],
      "source": [
        "s=pd.Series(data,index=['a','b','c','f'])\n",
        "s"
      ]
    },
    {
      "cell_type": "markdown",
      "metadata": {
        "id": "IT44qeEgZ3GQ"
      },
      "source": [
        "### Quering Series"
      ]
    },
    {
      "cell_type": "code",
      "execution_count": 11,
      "metadata": {
        "colab": {
          "base_uri": "https://localhost:8080/"
        },
        "id": "RWnKL0P8Z6o-",
        "outputId": "65abf7a2-0a3a-4c60-8a1e-a0d8f9072e20"
      },
      "outputs": [
        {
          "data": {
            "text/plain": [
              "0     1\n",
              "1     2\n",
              "2     3\n",
              "3     4\n",
              "4     5\n",
              "5     6\n",
              "6     7\n",
              "7     8\n",
              "8     9\n",
              "9    10\n",
              "dtype: int64"
            ]
          },
          "execution_count": 11,
          "metadata": {},
          "output_type": "execute_result"
        }
      ],
      "source": [
        "s=pd.Series([x for x in range(1,11)])\n",
        "s"
      ]
    },
    {
      "cell_type": "code",
      "execution_count": 12,
      "metadata": {
        "colab": {
          "base_uri": "https://localhost:8080/"
        },
        "id": "v8O0PWG4aGeH",
        "outputId": "8dc40733-0e15-43c5-d982-eb51397bf8a6"
      },
      "outputs": [
        {
          "data": {
            "text/plain": [
              "1"
            ]
          },
          "execution_count": 12,
          "metadata": {},
          "output_type": "execute_result"
        }
      ],
      "source": [
        "s.iloc[0]"
      ]
    },
    {
      "cell_type": "code",
      "execution_count": 13,
      "metadata": {
        "colab": {
          "base_uri": "https://localhost:8080/"
        },
        "id": "1EWFtV3PaI0R",
        "outputId": "f3e0ba0d-b63f-4f78-ea67-ce754134d51a"
      },
      "outputs": [
        {
          "data": {
            "text/plain": [
              "6"
            ]
          },
          "execution_count": 13,
          "metadata": {},
          "output_type": "execute_result"
        }
      ],
      "source": [
        "s.iloc[5]"
      ]
    },
    {
      "cell_type": "code",
      "execution_count": 14,
      "metadata": {
        "colab": {
          "base_uri": "https://localhost:8080/"
        },
        "id": "EvOIHttHaLLF",
        "outputId": "ba6d74d0-ef9a-409f-a5e5-08ee67877092"
      },
      "outputs": [
        {
          "data": {
            "text/plain": [
              "9"
            ]
          },
          "execution_count": 14,
          "metadata": {},
          "output_type": "execute_result"
        }
      ],
      "source": [
        "s.iat[8]"
      ]
    },
    {
      "cell_type": "code",
      "execution_count": 15,
      "metadata": {
        "colab": {
          "base_uri": "https://localhost:8080/"
        },
        "id": "j7Tl2JwpaRRH",
        "outputId": "0395e8cc-3ae3-4002-eadb-bbd41fa0a65b"
      },
      "outputs": [
        {
          "data": {
            "text/plain": [
              "5    6\n",
              "6    7\n",
              "7    8\n",
              "8    9\n",
              "dtype: int64"
            ]
          },
          "execution_count": 15,
          "metadata": {},
          "output_type": "execute_result"
        }
      ],
      "source": [
        "s[5:9]"
      ]
    },
    {
      "cell_type": "code",
      "execution_count": 16,
      "metadata": {
        "colab": {
          "base_uri": "https://localhost:8080/"
        },
        "id": "erTuFaUqaU41",
        "outputId": "ccb1394c-40c9-43c5-9e95-d126b33d607d"
      },
      "outputs": [
        {
          "data": {
            "text/plain": [
              "6    7\n",
              "7    8\n",
              "8    9\n",
              "dtype: int64"
            ]
          },
          "execution_count": 16,
          "metadata": {},
          "output_type": "execute_result"
        }
      ],
      "source": [
        "s[-4:-1]"
      ]
    },
    {
      "cell_type": "code",
      "execution_count": 17,
      "metadata": {
        "colab": {
          "base_uri": "https://localhost:8080/"
        },
        "id": "3BLCiVWtaXAH",
        "outputId": "d24e7211-7e45-4ccf-ef18-ef59d05b54e5"
      },
      "outputs": [
        {
          "data": {
            "text/plain": [
              "0     NaN\n",
              "1     2.0\n",
              "2     NaN\n",
              "3     4.0\n",
              "4     NaN\n",
              "5     6.0\n",
              "6     NaN\n",
              "7     8.0\n",
              "8     NaN\n",
              "9    10.0\n",
              "dtype: float64"
            ]
          },
          "execution_count": 17,
          "metadata": {},
          "output_type": "execute_result"
        }
      ],
      "source": [
        "s.where(s%2==0)"
      ]
    },
    {
      "cell_type": "code",
      "execution_count": 18,
      "metadata": {
        "colab": {
          "base_uri": "https://localhost:8080/"
        },
        "id": "K2KgmyEKabDz",
        "outputId": "2f5f7871-9b14-4ff3-b41d-34d5674e6355"
      },
      "outputs": [
        {
          "data": {
            "text/plain": [
              "0    Odd Number\n",
              "1             2\n",
              "2    Odd Number\n",
              "3             4\n",
              "4    Odd Number\n",
              "5             6\n",
              "6    Odd Number\n",
              "7             8\n",
              "8    Odd Number\n",
              "9            10\n",
              "dtype: object"
            ]
          },
          "execution_count": 18,
          "metadata": {},
          "output_type": "execute_result"
        }
      ],
      "source": [
        "s.where(s%2==0,'Odd Number')"
      ]
    },
    {
      "cell_type": "code",
      "execution_count": 19,
      "metadata": {
        "colab": {
          "base_uri": "https://localhost:8080/"
        },
        "id": "Ki5HoUD5afmW",
        "outputId": "2a51b9e0-d86e-4476-9585-103638857a5f"
      },
      "outputs": [
        {
          "data": {
            "text/plain": [
              "0     1\n",
              "1     2\n",
              "2     9\n",
              "3     4\n",
              "4    25\n",
              "5     6\n",
              "6    49\n",
              "7     8\n",
              "8    81\n",
              "9    10\n",
              "dtype: int64"
            ]
          },
          "execution_count": 19,
          "metadata": {},
          "output_type": "execute_result"
        }
      ],
      "source": [
        "s.where(s%2==0,s**2)"
      ]
    },
    {
      "cell_type": "code",
      "execution_count": 20,
      "metadata": {
        "colab": {
          "base_uri": "https://localhost:8080/"
        },
        "id": "QUh-O7fIalYE",
        "outputId": "6addac23-9dbc-4a08-91ce-ae361ddc4d4c"
      },
      "outputs": [
        {
          "data": {
            "text/plain": [
              "0     NaN\n",
              "1     2.0\n",
              "2     NaN\n",
              "3     4.0\n",
              "4     NaN\n",
              "5     6.0\n",
              "6     NaN\n",
              "7     8.0\n",
              "8     NaN\n",
              "9    10.0\n",
              "dtype: float64"
            ]
          },
          "execution_count": 20,
          "metadata": {},
          "output_type": "execute_result"
        }
      ],
      "source": [
        "s.where(s%2==0,inplace=True)\n",
        "s"
      ]
    },
    {
      "cell_type": "code",
      "execution_count": 21,
      "metadata": {
        "colab": {
          "base_uri": "https://localhost:8080/"
        },
        "id": "EnkBI-wtatsW",
        "outputId": "67a7e243-a432-4622-8658-04505e8703d5"
      },
      "outputs": [
        {
          "data": {
            "text/plain": [
              "1     2.0\n",
              "3     4.0\n",
              "5     6.0\n",
              "7     8.0\n",
              "9    10.0\n",
              "dtype: float64"
            ]
          },
          "execution_count": 21,
          "metadata": {},
          "output_type": "execute_result"
        }
      ],
      "source": [
        "s.dropna(inplace=True)\n",
        "s"
      ]
    },
    {
      "cell_type": "code",
      "execution_count": 22,
      "metadata": {
        "colab": {
          "base_uri": "https://localhost:8080/"
        },
        "id": "eyHIlFesa6sh",
        "outputId": "b3f26518-2647-42bd-e4ed-11851b7411d3"
      },
      "outputs": [
        {
          "data": {
            "text/plain": [
              "1     2.0\n",
              "3     4.0\n",
              "5     6.0\n",
              "7     8.0\n",
              "9    10.0\n",
              "dtype: float64"
            ]
          },
          "execution_count": 22,
          "metadata": {},
          "output_type": "execute_result"
        }
      ],
      "source": [
        "s.fillna('Filled Value',inplace=True)\n",
        "s"
      ]
    },
    {
      "cell_type": "markdown",
      "metadata": {
        "id": "WEwseKfCbOXq"
      },
      "source": [
        "### Dataframe:"
      ]
    },
    {
      "cell_type": "code",
      "execution_count": 23,
      "metadata": {
        "id": "bHxBgFeubQn8"
      },
      "outputs": [],
      "source": [
        "df=pd.DataFrame()"
      ]
    },
    {
      "cell_type": "code",
      "execution_count": 24,
      "metadata": {
        "colab": {
          "base_uri": "https://localhost:8080/"
        },
        "id": "BGzU_UQCbToW",
        "outputId": "5f0defef-745a-46d9-edee-cb120f23ae05"
      },
      "outputs": [
        {
          "data": {
            "text/plain": [
              "pandas.core.frame.DataFrame"
            ]
          },
          "execution_count": 24,
          "metadata": {},
          "output_type": "execute_result"
        }
      ],
      "source": [
        "type(df)"
      ]
    },
    {
      "cell_type": "code",
      "execution_count": 25,
      "metadata": {},
      "outputs": [
        {
          "data": {
            "text/html": [
              "<div>\n",
              "<style scoped>\n",
              "    .dataframe tbody tr th:only-of-type {\n",
              "        vertical-align: middle;\n",
              "    }\n",
              "\n",
              "    .dataframe tbody tr th {\n",
              "        vertical-align: top;\n",
              "    }\n",
              "\n",
              "    .dataframe thead th {\n",
              "        text-align: right;\n",
              "    }\n",
              "</style>\n",
              "<table border=\"1\" class=\"dataframe\">\n",
              "  <thead>\n",
              "    <tr style=\"text-align: right;\">\n",
              "      <th></th>\n",
              "      <th>Name</th>\n",
              "      <th>Age</th>\n",
              "      <th>Gender</th>\n",
              "    </tr>\n",
              "  </thead>\n",
              "  <tbody>\n",
              "    <tr>\n",
              "      <th>0</th>\n",
              "      <td>Nithin</td>\n",
              "      <td>24</td>\n",
              "      <td>Male</td>\n",
              "    </tr>\n",
              "    <tr>\n",
              "      <th>1</th>\n",
              "      <td>Manoj</td>\n",
              "      <td>30</td>\n",
              "      <td>Male</td>\n",
              "    </tr>\n",
              "    <tr>\n",
              "      <th>2</th>\n",
              "      <td>Shivashankar</td>\n",
              "      <td>44</td>\n",
              "      <td>Male</td>\n",
              "    </tr>\n",
              "    <tr>\n",
              "      <th>3</th>\n",
              "      <td>Swathi</td>\n",
              "      <td>18</td>\n",
              "      <td>Female</td>\n",
              "    </tr>\n",
              "    <tr>\n",
              "      <th>4</th>\n",
              "      <td>Pareekshith</td>\n",
              "      <td>28</td>\n",
              "      <td>Male</td>\n",
              "    </tr>\n",
              "  </tbody>\n",
              "</table>\n",
              "</div>"
            ],
            "text/plain": [
              "           Name  Age  Gender\n",
              "0        Nithin   24    Male\n",
              "1         Manoj   30    Male\n",
              "2  Shivashankar   44    Male\n",
              "3        Swathi   18  Female\n",
              "4   Pareekshith   28    Male"
            ]
          },
          "execution_count": 25,
          "metadata": {},
          "output_type": "execute_result"
        }
      ],
      "source": [
        "df=pd.read_csv('data/PandasExample.csv')\n",
        "df\n"
      ]
    },
    {
      "cell_type": "code",
      "execution_count": 26,
      "metadata": {},
      "outputs": [
        {
          "data": {
            "text/html": [
              "<div>\n",
              "<style scoped>\n",
              "    .dataframe tbody tr th:only-of-type {\n",
              "        vertical-align: middle;\n",
              "    }\n",
              "\n",
              "    .dataframe tbody tr th {\n",
              "        vertical-align: top;\n",
              "    }\n",
              "\n",
              "    .dataframe thead th {\n",
              "        text-align: right;\n",
              "    }\n",
              "</style>\n",
              "<table border=\"1\" class=\"dataframe\">\n",
              "  <thead>\n",
              "    <tr style=\"text-align: right;\">\n",
              "      <th></th>\n",
              "      <th>Name</th>\n",
              "      <th>Age</th>\n",
              "      <th>Gender</th>\n",
              "    </tr>\n",
              "  </thead>\n",
              "  <tbody>\n",
              "    <tr>\n",
              "      <th>0</th>\n",
              "      <td>Nithin</td>\n",
              "      <td>24</td>\n",
              "      <td>Male</td>\n",
              "    </tr>\n",
              "    <tr>\n",
              "      <th>1</th>\n",
              "      <td>Manoj</td>\n",
              "      <td>30</td>\n",
              "      <td>Male</td>\n",
              "    </tr>\n",
              "    <tr>\n",
              "      <th>2</th>\n",
              "      <td>Shivashankar</td>\n",
              "      <td>44</td>\n",
              "      <td>Male</td>\n",
              "    </tr>\n",
              "    <tr>\n",
              "      <th>3</th>\n",
              "      <td>Swathi</td>\n",
              "      <td>18</td>\n",
              "      <td>Female</td>\n",
              "    </tr>\n",
              "    <tr>\n",
              "      <th>4</th>\n",
              "      <td>Pareekshith</td>\n",
              "      <td>28</td>\n",
              "      <td>Male</td>\n",
              "    </tr>\n",
              "  </tbody>\n",
              "</table>\n",
              "</div>"
            ],
            "text/plain": [
              "           Name  Age  Gender\n",
              "0        Nithin   24    Male\n",
              "1         Manoj   30    Male\n",
              "2  Shivashankar   44    Male\n",
              "3        Swathi   18  Female\n",
              "4   Pareekshith   28    Male"
            ]
          },
          "execution_count": 26,
          "metadata": {},
          "output_type": "execute_result"
        }
      ],
      "source": [
        "df.head()"
      ]
    },
    {
      "cell_type": "code",
      "execution_count": 27,
      "metadata": {},
      "outputs": [
        {
          "data": {
            "text/html": [
              "<div>\n",
              "<style scoped>\n",
              "    .dataframe tbody tr th:only-of-type {\n",
              "        vertical-align: middle;\n",
              "    }\n",
              "\n",
              "    .dataframe tbody tr th {\n",
              "        vertical-align: top;\n",
              "    }\n",
              "\n",
              "    .dataframe thead th {\n",
              "        text-align: right;\n",
              "    }\n",
              "</style>\n",
              "<table border=\"1\" class=\"dataframe\">\n",
              "  <thead>\n",
              "    <tr style=\"text-align: right;\">\n",
              "      <th></th>\n",
              "      <th>Name</th>\n",
              "      <th>Age</th>\n",
              "      <th>Gender</th>\n",
              "    </tr>\n",
              "  </thead>\n",
              "  <tbody>\n",
              "    <tr>\n",
              "      <th>0</th>\n",
              "      <td>Nithin</td>\n",
              "      <td>24</td>\n",
              "      <td>Male</td>\n",
              "    </tr>\n",
              "    <tr>\n",
              "      <th>1</th>\n",
              "      <td>Manoj</td>\n",
              "      <td>30</td>\n",
              "      <td>Male</td>\n",
              "    </tr>\n",
              "    <tr>\n",
              "      <th>2</th>\n",
              "      <td>Shivashankar</td>\n",
              "      <td>44</td>\n",
              "      <td>Male</td>\n",
              "    </tr>\n",
              "    <tr>\n",
              "      <th>3</th>\n",
              "      <td>Swathi</td>\n",
              "      <td>18</td>\n",
              "      <td>Female</td>\n",
              "    </tr>\n",
              "    <tr>\n",
              "      <th>4</th>\n",
              "      <td>Pareekshith</td>\n",
              "      <td>28</td>\n",
              "      <td>Male</td>\n",
              "    </tr>\n",
              "  </tbody>\n",
              "</table>\n",
              "</div>"
            ],
            "text/plain": [
              "           Name  Age  Gender\n",
              "0        Nithin   24    Male\n",
              "1         Manoj   30    Male\n",
              "2  Shivashankar   44    Male\n",
              "3        Swathi   18  Female\n",
              "4   Pareekshith   28    Male"
            ]
          },
          "execution_count": 27,
          "metadata": {},
          "output_type": "execute_result"
        }
      ],
      "source": [
        "df.tail()"
      ]
    },
    {
      "cell_type": "code",
      "execution_count": 28,
      "metadata": {},
      "outputs": [
        {
          "data": {
            "text/html": [
              "<div>\n",
              "<style scoped>\n",
              "    .dataframe tbody tr th:only-of-type {\n",
              "        vertical-align: middle;\n",
              "    }\n",
              "\n",
              "    .dataframe tbody tr th {\n",
              "        vertical-align: top;\n",
              "    }\n",
              "\n",
              "    .dataframe thead th {\n",
              "        text-align: right;\n",
              "    }\n",
              "</style>\n",
              "<table border=\"1\" class=\"dataframe\">\n",
              "  <thead>\n",
              "    <tr style=\"text-align: right;\">\n",
              "      <th></th>\n",
              "      <th>Name</th>\n",
              "      <th>Age</th>\n",
              "      <th>Gender</th>\n",
              "    </tr>\n",
              "  </thead>\n",
              "  <tbody>\n",
              "    <tr>\n",
              "      <th>0</th>\n",
              "      <td>Nithin</td>\n",
              "      <td>24</td>\n",
              "      <td>Male</td>\n",
              "    </tr>\n",
              "    <tr>\n",
              "      <th>1</th>\n",
              "      <td>Manoj</td>\n",
              "      <td>30</td>\n",
              "      <td>Male</td>\n",
              "    </tr>\n",
              "  </tbody>\n",
              "</table>\n",
              "</div>"
            ],
            "text/plain": [
              "     Name  Age Gender\n",
              "0  Nithin   24   Male\n",
              "1   Manoj   30   Male"
            ]
          },
          "execution_count": 28,
          "metadata": {},
          "output_type": "execute_result"
        }
      ],
      "source": [
        "df.head(2)"
      ]
    },
    {
      "cell_type": "code",
      "execution_count": 29,
      "metadata": {},
      "outputs": [
        {
          "data": {
            "text/html": [
              "<div>\n",
              "<style scoped>\n",
              "    .dataframe tbody tr th:only-of-type {\n",
              "        vertical-align: middle;\n",
              "    }\n",
              "\n",
              "    .dataframe tbody tr th {\n",
              "        vertical-align: top;\n",
              "    }\n",
              "\n",
              "    .dataframe thead th {\n",
              "        text-align: right;\n",
              "    }\n",
              "</style>\n",
              "<table border=\"1\" class=\"dataframe\">\n",
              "  <thead>\n",
              "    <tr style=\"text-align: right;\">\n",
              "      <th></th>\n",
              "      <th>Name</th>\n",
              "      <th>Age</th>\n",
              "      <th>Gender</th>\n",
              "    </tr>\n",
              "  </thead>\n",
              "  <tbody>\n",
              "    <tr>\n",
              "      <th>0</th>\n",
              "      <td>Nithin</td>\n",
              "      <td>24</td>\n",
              "      <td>Male</td>\n",
              "    </tr>\n",
              "    <tr>\n",
              "      <th>1</th>\n",
              "      <td>Manoj</td>\n",
              "      <td>30</td>\n",
              "      <td>Male</td>\n",
              "    </tr>\n",
              "  </tbody>\n",
              "</table>\n",
              "</div>"
            ],
            "text/plain": [
              "     Name  Age Gender\n",
              "0  Nithin   24   Male\n",
              "1   Manoj   30   Male"
            ]
          },
          "execution_count": 29,
          "metadata": {},
          "output_type": "execute_result"
        }
      ],
      "source": [
        "df.head(2)"
      ]
    },
    {
      "cell_type": "code",
      "execution_count": 30,
      "metadata": {},
      "outputs": [
        {
          "data": {
            "text/plain": [
              "Name      Nithin\n",
              "Age           24\n",
              "Gender      Male\n",
              "Name: 0, dtype: object"
            ]
          },
          "execution_count": 30,
          "metadata": {},
          "output_type": "execute_result"
        }
      ],
      "source": [
        "df.iloc[0]"
      ]
    },
    {
      "cell_type": "code",
      "execution_count": 31,
      "metadata": {},
      "outputs": [
        {
          "data": {
            "text/plain": [
              "Name      Swathi\n",
              "Age           18\n",
              "Gender    Female\n",
              "Name: 3, dtype: object"
            ]
          },
          "execution_count": 31,
          "metadata": {},
          "output_type": "execute_result"
        }
      ],
      "source": [
        "df.iloc[3]"
      ]
    },
    {
      "cell_type": "code",
      "execution_count": 32,
      "metadata": {},
      "outputs": [
        {
          "data": {
            "text/plain": [
              "array([['Nithin', 24, 'Male'],\n",
              "       ['Manoj', 30, 'Male'],\n",
              "       ['Shivashankar', 44, 'Male'],\n",
              "       ['Swathi', 18, 'Female'],\n",
              "       ['Pareekshith', 28, 'Male']], dtype=object)"
            ]
          },
          "execution_count": 32,
          "metadata": {},
          "output_type": "execute_result"
        }
      ],
      "source": [
        "df.values"
      ]
    },
    {
      "cell_type": "code",
      "execution_count": 33,
      "metadata": {},
      "outputs": [
        {
          "data": {
            "text/plain": [
              "<pandas.io.parsers.readers.TextFileReader at 0x12a2ff4c0>"
            ]
          },
          "execution_count": 33,
          "metadata": {},
          "output_type": "execute_result"
        }
      ],
      "source": [
        "# creating chunks\n",
        "df=pd.read_csv('data/PandasExample.csv',chunksize=2)\n",
        "df"
      ]
    },
    {
      "cell_type": "code",
      "execution_count": 34,
      "metadata": {},
      "outputs": [
        {
          "name": "stdout",
          "output_type": "stream",
          "text": [
            "     Name  Age Gender\n",
            "0  Nithin   24   Male\n",
            "1   Manoj   30   Male\n",
            "           Name  Age  Gender\n",
            "2  Shivashankar   44    Male\n",
            "3        Swathi   18  Female\n",
            "          Name  Age Gender\n",
            "4  Pareekshith   28   Male\n"
          ]
        }
      ],
      "source": [
        "for chunk in df:\n",
        "    print(chunk)"
      ]
    },
    {
      "cell_type": "code",
      "execution_count": 35,
      "metadata": {},
      "outputs": [
        {
          "data": {
            "text/html": [
              "<div>\n",
              "<style scoped>\n",
              "    .dataframe tbody tr th:only-of-type {\n",
              "        vertical-align: middle;\n",
              "    }\n",
              "\n",
              "    .dataframe tbody tr th {\n",
              "        vertical-align: top;\n",
              "    }\n",
              "\n",
              "    .dataframe thead th {\n",
              "        text-align: right;\n",
              "    }\n",
              "</style>\n",
              "<table border=\"1\" class=\"dataframe\">\n",
              "  <thead>\n",
              "    <tr style=\"text-align: right;\">\n",
              "      <th></th>\n",
              "      <th>Name</th>\n",
              "      <th>Age</th>\n",
              "      <th>Gender</th>\n",
              "    </tr>\n",
              "  </thead>\n",
              "  <tbody>\n",
              "    <tr>\n",
              "      <th>0</th>\n",
              "      <td>Nithin</td>\n",
              "      <td>24</td>\n",
              "      <td>Male</td>\n",
              "    </tr>\n",
              "    <tr>\n",
              "      <th>1</th>\n",
              "      <td>Manoj</td>\n",
              "      <td>30</td>\n",
              "      <td>Male</td>\n",
              "    </tr>\n",
              "    <tr>\n",
              "      <th>2</th>\n",
              "      <td>Shivashankar</td>\n",
              "      <td>44</td>\n",
              "      <td>Male</td>\n",
              "    </tr>\n",
              "    <tr>\n",
              "      <th>3</th>\n",
              "      <td>Swathi</td>\n",
              "      <td>18</td>\n",
              "      <td>Female</td>\n",
              "    </tr>\n",
              "    <tr>\n",
              "      <th>4</th>\n",
              "      <td>Pareekshith</td>\n",
              "      <td>28</td>\n",
              "      <td>Male</td>\n",
              "    </tr>\n",
              "  </tbody>\n",
              "</table>\n",
              "</div>"
            ],
            "text/plain": [
              "           Name  Age  Gender\n",
              "0        Nithin   24    Male\n",
              "1         Manoj   30    Male\n",
              "2  Shivashankar   44    Male\n",
              "3        Swathi   18  Female\n",
              "4   Pareekshith   28    Male"
            ]
          },
          "execution_count": 35,
          "metadata": {},
          "output_type": "execute_result"
        }
      ],
      "source": [
        "# Applyting age condition\n",
        "df=pd.read_csv('data/PandasExample.csv')\n",
        "df"
      ]
    },
    {
      "cell_type": "code",
      "execution_count": 36,
      "metadata": {},
      "outputs": [
        {
          "data": {
            "text/html": [
              "<div>\n",
              "<style scoped>\n",
              "    .dataframe tbody tr th:only-of-type {\n",
              "        vertical-align: middle;\n",
              "    }\n",
              "\n",
              "    .dataframe tbody tr th {\n",
              "        vertical-align: top;\n",
              "    }\n",
              "\n",
              "    .dataframe thead th {\n",
              "        text-align: right;\n",
              "    }\n",
              "</style>\n",
              "<table border=\"1\" class=\"dataframe\">\n",
              "  <thead>\n",
              "    <tr style=\"text-align: right;\">\n",
              "      <th></th>\n",
              "      <th>Name</th>\n",
              "      <th>Age</th>\n",
              "      <th>Gender</th>\n",
              "    </tr>\n",
              "  </thead>\n",
              "  <tbody>\n",
              "    <tr>\n",
              "      <th>1</th>\n",
              "      <td>Manoj</td>\n",
              "      <td>30</td>\n",
              "      <td>Male</td>\n",
              "    </tr>\n",
              "    <tr>\n",
              "      <th>2</th>\n",
              "      <td>Shivashankar</td>\n",
              "      <td>44</td>\n",
              "      <td>Male</td>\n",
              "    </tr>\n",
              "    <tr>\n",
              "      <th>4</th>\n",
              "      <td>Pareekshith</td>\n",
              "      <td>28</td>\n",
              "      <td>Male</td>\n",
              "    </tr>\n",
              "  </tbody>\n",
              "</table>\n",
              "</div>"
            ],
            "text/plain": [
              "           Name  Age Gender\n",
              "1         Manoj   30   Male\n",
              "2  Shivashankar   44   Male\n",
              "4   Pareekshith   28   Male"
            ]
          },
          "execution_count": 36,
          "metadata": {},
          "output_type": "execute_result"
        }
      ],
      "source": [
        "df=df[df['Age']>25]\n",
        "df"
      ]
    },
    {
      "attachments": {},
      "cell_type": "markdown",
      "metadata": {},
      "source": [
        "### Pandas Panel  <br>\n",
        "(creating multiple indices<br>\n",
        "Accessing data from multiple indices)"
      ]
    },
    {
      "cell_type": "code",
      "execution_count": 37,
      "metadata": {},
      "outputs": [
        {
          "data": {
            "text/html": [
              "<div>\n",
              "<style scoped>\n",
              "    .dataframe tbody tr th:only-of-type {\n",
              "        vertical-align: middle;\n",
              "    }\n",
              "\n",
              "    .dataframe tbody tr th {\n",
              "        vertical-align: top;\n",
              "    }\n",
              "\n",
              "    .dataframe thead th {\n",
              "        text-align: right;\n",
              "    }\n",
              "</style>\n",
              "<table border=\"1\" class=\"dataframe\">\n",
              "  <thead>\n",
              "    <tr style=\"text-align: right;\">\n",
              "      <th></th>\n",
              "      <th>date</th>\n",
              "      <th>price</th>\n",
              "      <th>bedrooms</th>\n",
              "      <th>bathrooms</th>\n",
              "      <th>sqft_living</th>\n",
              "      <th>sqft_lot</th>\n",
              "      <th>floors</th>\n",
              "      <th>waterfront</th>\n",
              "      <th>view</th>\n",
              "      <th>condition</th>\n",
              "      <th>sqft_above</th>\n",
              "      <th>sqft_basement</th>\n",
              "      <th>yr_built</th>\n",
              "      <th>yr_renovated</th>\n",
              "      <th>street</th>\n",
              "      <th>city</th>\n",
              "      <th>statezip</th>\n",
              "      <th>country</th>\n",
              "    </tr>\n",
              "  </thead>\n",
              "  <tbody>\n",
              "    <tr>\n",
              "      <th>0</th>\n",
              "      <td>2014-05-02 00:00:00</td>\n",
              "      <td>313000.0</td>\n",
              "      <td>3.0</td>\n",
              "      <td>1.50</td>\n",
              "      <td>1340</td>\n",
              "      <td>7912</td>\n",
              "      <td>1.5</td>\n",
              "      <td>0</td>\n",
              "      <td>0</td>\n",
              "      <td>3</td>\n",
              "      <td>1340</td>\n",
              "      <td>0</td>\n",
              "      <td>1955</td>\n",
              "      <td>2005</td>\n",
              "      <td>18810 Densmore Ave N</td>\n",
              "      <td>Shoreline</td>\n",
              "      <td>WA 98133</td>\n",
              "      <td>USA</td>\n",
              "    </tr>\n",
              "    <tr>\n",
              "      <th>1</th>\n",
              "      <td>2014-05-02 00:00:00</td>\n",
              "      <td>2384000.0</td>\n",
              "      <td>5.0</td>\n",
              "      <td>2.50</td>\n",
              "      <td>3650</td>\n",
              "      <td>9050</td>\n",
              "      <td>2.0</td>\n",
              "      <td>0</td>\n",
              "      <td>4</td>\n",
              "      <td>5</td>\n",
              "      <td>3370</td>\n",
              "      <td>280</td>\n",
              "      <td>1921</td>\n",
              "      <td>0</td>\n",
              "      <td>709 W Blaine St</td>\n",
              "      <td>Seattle</td>\n",
              "      <td>WA 98119</td>\n",
              "      <td>USA</td>\n",
              "    </tr>\n",
              "    <tr>\n",
              "      <th>2</th>\n",
              "      <td>2014-05-02 00:00:00</td>\n",
              "      <td>342000.0</td>\n",
              "      <td>3.0</td>\n",
              "      <td>2.00</td>\n",
              "      <td>1930</td>\n",
              "      <td>11947</td>\n",
              "      <td>1.0</td>\n",
              "      <td>0</td>\n",
              "      <td>0</td>\n",
              "      <td>4</td>\n",
              "      <td>1930</td>\n",
              "      <td>0</td>\n",
              "      <td>1966</td>\n",
              "      <td>0</td>\n",
              "      <td>26206-26214 143rd Ave SE</td>\n",
              "      <td>Kent</td>\n",
              "      <td>WA 98042</td>\n",
              "      <td>USA</td>\n",
              "    </tr>\n",
              "    <tr>\n",
              "      <th>3</th>\n",
              "      <td>2014-05-02 00:00:00</td>\n",
              "      <td>420000.0</td>\n",
              "      <td>3.0</td>\n",
              "      <td>2.25</td>\n",
              "      <td>2000</td>\n",
              "      <td>8030</td>\n",
              "      <td>1.0</td>\n",
              "      <td>0</td>\n",
              "      <td>0</td>\n",
              "      <td>4</td>\n",
              "      <td>1000</td>\n",
              "      <td>1000</td>\n",
              "      <td>1963</td>\n",
              "      <td>0</td>\n",
              "      <td>857 170th Pl NE</td>\n",
              "      <td>Bellevue</td>\n",
              "      <td>WA 98008</td>\n",
              "      <td>USA</td>\n",
              "    </tr>\n",
              "    <tr>\n",
              "      <th>4</th>\n",
              "      <td>2014-05-02 00:00:00</td>\n",
              "      <td>550000.0</td>\n",
              "      <td>4.0</td>\n",
              "      <td>2.50</td>\n",
              "      <td>1940</td>\n",
              "      <td>10500</td>\n",
              "      <td>1.0</td>\n",
              "      <td>0</td>\n",
              "      <td>0</td>\n",
              "      <td>4</td>\n",
              "      <td>1140</td>\n",
              "      <td>800</td>\n",
              "      <td>1976</td>\n",
              "      <td>1992</td>\n",
              "      <td>9105 170th Ave NE</td>\n",
              "      <td>Redmond</td>\n",
              "      <td>WA 98052</td>\n",
              "      <td>USA</td>\n",
              "    </tr>\n",
              "  </tbody>\n",
              "</table>\n",
              "</div>"
            ],
            "text/plain": [
              "                  date      price  bedrooms  bathrooms  sqft_living  sqft_lot  \\\n",
              "0  2014-05-02 00:00:00   313000.0       3.0       1.50         1340      7912   \n",
              "1  2014-05-02 00:00:00  2384000.0       5.0       2.50         3650      9050   \n",
              "2  2014-05-02 00:00:00   342000.0       3.0       2.00         1930     11947   \n",
              "3  2014-05-02 00:00:00   420000.0       3.0       2.25         2000      8030   \n",
              "4  2014-05-02 00:00:00   550000.0       4.0       2.50         1940     10500   \n",
              "\n",
              "   floors  waterfront  view  condition  sqft_above  sqft_basement  yr_built  \\\n",
              "0     1.5           0     0          3        1340              0      1955   \n",
              "1     2.0           0     4          5        3370            280      1921   \n",
              "2     1.0           0     0          4        1930              0      1966   \n",
              "3     1.0           0     0          4        1000           1000      1963   \n",
              "4     1.0           0     0          4        1140            800      1976   \n",
              "\n",
              "   yr_renovated                    street       city  statezip country  \n",
              "0          2005      18810 Densmore Ave N  Shoreline  WA 98133     USA  \n",
              "1             0           709 W Blaine St    Seattle  WA 98119     USA  \n",
              "2             0  26206-26214 143rd Ave SE       Kent  WA 98042     USA  \n",
              "3             0           857 170th Pl NE   Bellevue  WA 98008     USA  \n",
              "4          1992         9105 170th Ave NE    Redmond  WA 98052     USA  "
            ]
          },
          "execution_count": 37,
          "metadata": {},
          "output_type": "execute_result"
        }
      ],
      "source": [
        "df=pd.read_csv('data/HousePrices.csv',parse_dates=True)\n",
        "df.head()"
      ]
    },
    {
      "cell_type": "code",
      "execution_count": 38,
      "metadata": {},
      "outputs": [
        {
          "data": {
            "text/plain": [
              "Index(['date', 'price', 'bedrooms', 'bathrooms', 'sqft_living', 'sqft_lot',\n",
              "       'floors', 'waterfront', 'view', 'condition', 'sqft_above',\n",
              "       'sqft_basement', 'yr_built', 'yr_renovated', 'street', 'city',\n",
              "       'statezip', 'country'],\n",
              "      dtype='object')"
            ]
          },
          "execution_count": 38,
          "metadata": {},
          "output_type": "execute_result"
        }
      ],
      "source": [
        "df.columns"
      ]
    },
    {
      "cell_type": "code",
      "execution_count": 39,
      "metadata": {},
      "outputs": [
        {
          "data": {
            "text/html": [
              "<div>\n",
              "<style scoped>\n",
              "    .dataframe tbody tr th:only-of-type {\n",
              "        vertical-align: middle;\n",
              "    }\n",
              "\n",
              "    .dataframe tbody tr th {\n",
              "        vertical-align: top;\n",
              "    }\n",
              "\n",
              "    .dataframe thead th {\n",
              "        text-align: right;\n",
              "    }\n",
              "</style>\n",
              "<table border=\"1\" class=\"dataframe\">\n",
              "  <thead>\n",
              "    <tr style=\"text-align: right;\">\n",
              "      <th></th>\n",
              "      <th></th>\n",
              "      <th>price</th>\n",
              "      <th>bedrooms</th>\n",
              "      <th>bathrooms</th>\n",
              "      <th>sqft_living</th>\n",
              "      <th>sqft_lot</th>\n",
              "      <th>floors</th>\n",
              "      <th>waterfront</th>\n",
              "      <th>view</th>\n",
              "      <th>condition</th>\n",
              "      <th>sqft_above</th>\n",
              "      <th>sqft_basement</th>\n",
              "      <th>yr_built</th>\n",
              "      <th>yr_renovated</th>\n",
              "      <th>street</th>\n",
              "      <th>statezip</th>\n",
              "      <th>country</th>\n",
              "    </tr>\n",
              "    <tr>\n",
              "      <th>city</th>\n",
              "      <th>date</th>\n",
              "      <th></th>\n",
              "      <th></th>\n",
              "      <th></th>\n",
              "      <th></th>\n",
              "      <th></th>\n",
              "      <th></th>\n",
              "      <th></th>\n",
              "      <th></th>\n",
              "      <th></th>\n",
              "      <th></th>\n",
              "      <th></th>\n",
              "      <th></th>\n",
              "      <th></th>\n",
              "      <th></th>\n",
              "      <th></th>\n",
              "      <th></th>\n",
              "    </tr>\n",
              "  </thead>\n",
              "  <tbody>\n",
              "    <tr>\n",
              "      <th>Shoreline</th>\n",
              "      <th>2014-05-02 00:00:00</th>\n",
              "      <td>3.130000e+05</td>\n",
              "      <td>3.0</td>\n",
              "      <td>1.50</td>\n",
              "      <td>1340</td>\n",
              "      <td>7912</td>\n",
              "      <td>1.5</td>\n",
              "      <td>0</td>\n",
              "      <td>0</td>\n",
              "      <td>3</td>\n",
              "      <td>1340</td>\n",
              "      <td>0</td>\n",
              "      <td>1955</td>\n",
              "      <td>2005</td>\n",
              "      <td>18810 Densmore Ave N</td>\n",
              "      <td>WA 98133</td>\n",
              "      <td>USA</td>\n",
              "    </tr>\n",
              "    <tr>\n",
              "      <th>Seattle</th>\n",
              "      <th>2014-05-02 00:00:00</th>\n",
              "      <td>2.384000e+06</td>\n",
              "      <td>5.0</td>\n",
              "      <td>2.50</td>\n",
              "      <td>3650</td>\n",
              "      <td>9050</td>\n",
              "      <td>2.0</td>\n",
              "      <td>0</td>\n",
              "      <td>4</td>\n",
              "      <td>5</td>\n",
              "      <td>3370</td>\n",
              "      <td>280</td>\n",
              "      <td>1921</td>\n",
              "      <td>0</td>\n",
              "      <td>709 W Blaine St</td>\n",
              "      <td>WA 98119</td>\n",
              "      <td>USA</td>\n",
              "    </tr>\n",
              "    <tr>\n",
              "      <th>Kent</th>\n",
              "      <th>2014-05-02 00:00:00</th>\n",
              "      <td>3.420000e+05</td>\n",
              "      <td>3.0</td>\n",
              "      <td>2.00</td>\n",
              "      <td>1930</td>\n",
              "      <td>11947</td>\n",
              "      <td>1.0</td>\n",
              "      <td>0</td>\n",
              "      <td>0</td>\n",
              "      <td>4</td>\n",
              "      <td>1930</td>\n",
              "      <td>0</td>\n",
              "      <td>1966</td>\n",
              "      <td>0</td>\n",
              "      <td>26206-26214 143rd Ave SE</td>\n",
              "      <td>WA 98042</td>\n",
              "      <td>USA</td>\n",
              "    </tr>\n",
              "    <tr>\n",
              "      <th>Bellevue</th>\n",
              "      <th>2014-05-02 00:00:00</th>\n",
              "      <td>4.200000e+05</td>\n",
              "      <td>3.0</td>\n",
              "      <td>2.25</td>\n",
              "      <td>2000</td>\n",
              "      <td>8030</td>\n",
              "      <td>1.0</td>\n",
              "      <td>0</td>\n",
              "      <td>0</td>\n",
              "      <td>4</td>\n",
              "      <td>1000</td>\n",
              "      <td>1000</td>\n",
              "      <td>1963</td>\n",
              "      <td>0</td>\n",
              "      <td>857 170th Pl NE</td>\n",
              "      <td>WA 98008</td>\n",
              "      <td>USA</td>\n",
              "    </tr>\n",
              "    <tr>\n",
              "      <th>Redmond</th>\n",
              "      <th>2014-05-02 00:00:00</th>\n",
              "      <td>5.500000e+05</td>\n",
              "      <td>4.0</td>\n",
              "      <td>2.50</td>\n",
              "      <td>1940</td>\n",
              "      <td>10500</td>\n",
              "      <td>1.0</td>\n",
              "      <td>0</td>\n",
              "      <td>0</td>\n",
              "      <td>4</td>\n",
              "      <td>1140</td>\n",
              "      <td>800</td>\n",
              "      <td>1976</td>\n",
              "      <td>1992</td>\n",
              "      <td>9105 170th Ave NE</td>\n",
              "      <td>WA 98052</td>\n",
              "      <td>USA</td>\n",
              "    </tr>\n",
              "    <tr>\n",
              "      <th>...</th>\n",
              "      <th>...</th>\n",
              "      <td>...</td>\n",
              "      <td>...</td>\n",
              "      <td>...</td>\n",
              "      <td>...</td>\n",
              "      <td>...</td>\n",
              "      <td>...</td>\n",
              "      <td>...</td>\n",
              "      <td>...</td>\n",
              "      <td>...</td>\n",
              "      <td>...</td>\n",
              "      <td>...</td>\n",
              "      <td>...</td>\n",
              "      <td>...</td>\n",
              "      <td>...</td>\n",
              "      <td>...</td>\n",
              "      <td>...</td>\n",
              "    </tr>\n",
              "    <tr>\n",
              "      <th>Seattle</th>\n",
              "      <th>2014-07-09 00:00:00</th>\n",
              "      <td>3.081667e+05</td>\n",
              "      <td>3.0</td>\n",
              "      <td>1.75</td>\n",
              "      <td>1510</td>\n",
              "      <td>6360</td>\n",
              "      <td>1.0</td>\n",
              "      <td>0</td>\n",
              "      <td>0</td>\n",
              "      <td>4</td>\n",
              "      <td>1510</td>\n",
              "      <td>0</td>\n",
              "      <td>1954</td>\n",
              "      <td>1979</td>\n",
              "      <td>501 N 143rd St</td>\n",
              "      <td>WA 98133</td>\n",
              "      <td>USA</td>\n",
              "    </tr>\n",
              "    <tr>\n",
              "      <th>Bellevue</th>\n",
              "      <th>2014-07-09 00:00:00</th>\n",
              "      <td>5.343333e+05</td>\n",
              "      <td>3.0</td>\n",
              "      <td>2.50</td>\n",
              "      <td>1460</td>\n",
              "      <td>7573</td>\n",
              "      <td>2.0</td>\n",
              "      <td>0</td>\n",
              "      <td>0</td>\n",
              "      <td>3</td>\n",
              "      <td>1460</td>\n",
              "      <td>0</td>\n",
              "      <td>1983</td>\n",
              "      <td>2009</td>\n",
              "      <td>14855 SE 10th Pl</td>\n",
              "      <td>WA 98007</td>\n",
              "      <td>USA</td>\n",
              "    </tr>\n",
              "    <tr>\n",
              "      <th>Renton</th>\n",
              "      <th>2014-07-09 00:00:00</th>\n",
              "      <td>4.169042e+05</td>\n",
              "      <td>3.0</td>\n",
              "      <td>2.50</td>\n",
              "      <td>3010</td>\n",
              "      <td>7014</td>\n",
              "      <td>2.0</td>\n",
              "      <td>0</td>\n",
              "      <td>0</td>\n",
              "      <td>3</td>\n",
              "      <td>3010</td>\n",
              "      <td>0</td>\n",
              "      <td>2009</td>\n",
              "      <td>0</td>\n",
              "      <td>759 Ilwaco Pl NE</td>\n",
              "      <td>WA 98059</td>\n",
              "      <td>USA</td>\n",
              "    </tr>\n",
              "    <tr>\n",
              "      <th>Seattle</th>\n",
              "      <th>2014-07-10 00:00:00</th>\n",
              "      <td>2.034000e+05</td>\n",
              "      <td>4.0</td>\n",
              "      <td>2.00</td>\n",
              "      <td>2090</td>\n",
              "      <td>6630</td>\n",
              "      <td>1.0</td>\n",
              "      <td>0</td>\n",
              "      <td>0</td>\n",
              "      <td>3</td>\n",
              "      <td>1070</td>\n",
              "      <td>1020</td>\n",
              "      <td>1974</td>\n",
              "      <td>0</td>\n",
              "      <td>5148 S Creston St</td>\n",
              "      <td>WA 98178</td>\n",
              "      <td>USA</td>\n",
              "    </tr>\n",
              "    <tr>\n",
              "      <th>Covington</th>\n",
              "      <th>2014-07-10 00:00:00</th>\n",
              "      <td>2.206000e+05</td>\n",
              "      <td>3.0</td>\n",
              "      <td>2.50</td>\n",
              "      <td>1490</td>\n",
              "      <td>8102</td>\n",
              "      <td>2.0</td>\n",
              "      <td>0</td>\n",
              "      <td>0</td>\n",
              "      <td>4</td>\n",
              "      <td>1490</td>\n",
              "      <td>0</td>\n",
              "      <td>1990</td>\n",
              "      <td>0</td>\n",
              "      <td>18717 SE 258th St</td>\n",
              "      <td>WA 98042</td>\n",
              "      <td>USA</td>\n",
              "    </tr>\n",
              "  </tbody>\n",
              "</table>\n",
              "<p>4600 rows × 16 columns</p>\n",
              "</div>"
            ],
            "text/plain": [
              "                                      price  bedrooms  bathrooms  sqft_living  \\\n",
              "city      date                                                                  \n",
              "Shoreline 2014-05-02 00:00:00  3.130000e+05       3.0       1.50         1340   \n",
              "Seattle   2014-05-02 00:00:00  2.384000e+06       5.0       2.50         3650   \n",
              "Kent      2014-05-02 00:00:00  3.420000e+05       3.0       2.00         1930   \n",
              "Bellevue  2014-05-02 00:00:00  4.200000e+05       3.0       2.25         2000   \n",
              "Redmond   2014-05-02 00:00:00  5.500000e+05       4.0       2.50         1940   \n",
              "...                                     ...       ...        ...          ...   \n",
              "Seattle   2014-07-09 00:00:00  3.081667e+05       3.0       1.75         1510   \n",
              "Bellevue  2014-07-09 00:00:00  5.343333e+05       3.0       2.50         1460   \n",
              "Renton    2014-07-09 00:00:00  4.169042e+05       3.0       2.50         3010   \n",
              "Seattle   2014-07-10 00:00:00  2.034000e+05       4.0       2.00         2090   \n",
              "Covington 2014-07-10 00:00:00  2.206000e+05       3.0       2.50         1490   \n",
              "\n",
              "                               sqft_lot  floors  waterfront  view  condition  \\\n",
              "city      date                                                                 \n",
              "Shoreline 2014-05-02 00:00:00      7912     1.5           0     0          3   \n",
              "Seattle   2014-05-02 00:00:00      9050     2.0           0     4          5   \n",
              "Kent      2014-05-02 00:00:00     11947     1.0           0     0          4   \n",
              "Bellevue  2014-05-02 00:00:00      8030     1.0           0     0          4   \n",
              "Redmond   2014-05-02 00:00:00     10500     1.0           0     0          4   \n",
              "...                                 ...     ...         ...   ...        ...   \n",
              "Seattle   2014-07-09 00:00:00      6360     1.0           0     0          4   \n",
              "Bellevue  2014-07-09 00:00:00      7573     2.0           0     0          3   \n",
              "Renton    2014-07-09 00:00:00      7014     2.0           0     0          3   \n",
              "Seattle   2014-07-10 00:00:00      6630     1.0           0     0          3   \n",
              "Covington 2014-07-10 00:00:00      8102     2.0           0     0          4   \n",
              "\n",
              "                               sqft_above  sqft_basement  yr_built  \\\n",
              "city      date                                                       \n",
              "Shoreline 2014-05-02 00:00:00        1340              0      1955   \n",
              "Seattle   2014-05-02 00:00:00        3370            280      1921   \n",
              "Kent      2014-05-02 00:00:00        1930              0      1966   \n",
              "Bellevue  2014-05-02 00:00:00        1000           1000      1963   \n",
              "Redmond   2014-05-02 00:00:00        1140            800      1976   \n",
              "...                                   ...            ...       ...   \n",
              "Seattle   2014-07-09 00:00:00        1510              0      1954   \n",
              "Bellevue  2014-07-09 00:00:00        1460              0      1983   \n",
              "Renton    2014-07-09 00:00:00        3010              0      2009   \n",
              "Seattle   2014-07-10 00:00:00        1070           1020      1974   \n",
              "Covington 2014-07-10 00:00:00        1490              0      1990   \n",
              "\n",
              "                               yr_renovated                    street  \\\n",
              "city      date                                                          \n",
              "Shoreline 2014-05-02 00:00:00          2005      18810 Densmore Ave N   \n",
              "Seattle   2014-05-02 00:00:00             0           709 W Blaine St   \n",
              "Kent      2014-05-02 00:00:00             0  26206-26214 143rd Ave SE   \n",
              "Bellevue  2014-05-02 00:00:00             0           857 170th Pl NE   \n",
              "Redmond   2014-05-02 00:00:00          1992         9105 170th Ave NE   \n",
              "...                                     ...                       ...   \n",
              "Seattle   2014-07-09 00:00:00          1979            501 N 143rd St   \n",
              "Bellevue  2014-07-09 00:00:00          2009          14855 SE 10th Pl   \n",
              "Renton    2014-07-09 00:00:00             0          759 Ilwaco Pl NE   \n",
              "Seattle   2014-07-10 00:00:00             0         5148 S Creston St   \n",
              "Covington 2014-07-10 00:00:00             0         18717 SE 258th St   \n",
              "\n",
              "                               statezip country  \n",
              "city      date                                   \n",
              "Shoreline 2014-05-02 00:00:00  WA 98133     USA  \n",
              "Seattle   2014-05-02 00:00:00  WA 98119     USA  \n",
              "Kent      2014-05-02 00:00:00  WA 98042     USA  \n",
              "Bellevue  2014-05-02 00:00:00  WA 98008     USA  \n",
              "Redmond   2014-05-02 00:00:00  WA 98052     USA  \n",
              "...                                 ...     ...  \n",
              "Seattle   2014-07-09 00:00:00  WA 98133     USA  \n",
              "Bellevue  2014-07-09 00:00:00  WA 98007     USA  \n",
              "Renton    2014-07-09 00:00:00  WA 98059     USA  \n",
              "Seattle   2014-07-10 00:00:00  WA 98178     USA  \n",
              "Covington 2014-07-10 00:00:00  WA 98042     USA  \n",
              "\n",
              "[4600 rows x 16 columns]"
            ]
          },
          "execution_count": 39,
          "metadata": {},
          "output_type": "execute_result"
        }
      ],
      "source": [
        "df.set_index(['city','date'],inplace=True)\n",
        "df"
      ]
    },
    {
      "cell_type": "code",
      "execution_count": 40,
      "metadata": {},
      "outputs": [
        {
          "data": {
            "text/plain": [
              "MultiIndex([(   'Shoreline', '2014-05-02 00:00:00'),\n",
              "            (     'Seattle', '2014-05-02 00:00:00'),\n",
              "            (        'Kent', '2014-05-02 00:00:00'),\n",
              "            (    'Bellevue', '2014-05-02 00:00:00'),\n",
              "            (     'Redmond', '2014-05-02 00:00:00'),\n",
              "            (     'Seattle', '2014-05-02 00:00:00'),\n",
              "            (     'Redmond', '2014-05-02 00:00:00'),\n",
              "            ('Maple Valley', '2014-05-02 00:00:00'),\n",
              "            (  'North Bend', '2014-05-02 00:00:00'),\n",
              "            (     'Seattle', '2014-05-02 00:00:00'),\n",
              "            ...\n",
              "            (      'Renton', '2014-07-08 00:00:00'),\n",
              "            (     'Seattle', '2014-07-08 00:00:00'),\n",
              "            ( 'Federal Way', '2014-07-08 00:00:00'),\n",
              "            (      'Auburn', '2014-07-08 00:00:00'),\n",
              "            (        'Kent', '2014-07-09 00:00:00'),\n",
              "            (     'Seattle', '2014-07-09 00:00:00'),\n",
              "            (    'Bellevue', '2014-07-09 00:00:00'),\n",
              "            (      'Renton', '2014-07-09 00:00:00'),\n",
              "            (     'Seattle', '2014-07-10 00:00:00'),\n",
              "            (   'Covington', '2014-07-10 00:00:00')],\n",
              "           names=['city', 'date'], length=4600)"
            ]
          },
          "execution_count": 40,
          "metadata": {},
          "output_type": "execute_result"
        }
      ],
      "source": [
        "df.index"
      ]
    },
    {
      "cell_type": "code",
      "execution_count": 41,
      "metadata": {},
      "outputs": [
        {
          "data": {
            "text/html": [
              "<div>\n",
              "<style scoped>\n",
              "    .dataframe tbody tr th:only-of-type {\n",
              "        vertical-align: middle;\n",
              "    }\n",
              "\n",
              "    .dataframe tbody tr th {\n",
              "        vertical-align: top;\n",
              "    }\n",
              "\n",
              "    .dataframe thead th {\n",
              "        text-align: right;\n",
              "    }\n",
              "</style>\n",
              "<table border=\"1\" class=\"dataframe\">\n",
              "  <thead>\n",
              "    <tr style=\"text-align: right;\">\n",
              "      <th></th>\n",
              "      <th>price</th>\n",
              "      <th>bedrooms</th>\n",
              "      <th>bathrooms</th>\n",
              "      <th>sqft_living</th>\n",
              "      <th>sqft_lot</th>\n",
              "      <th>floors</th>\n",
              "      <th>waterfront</th>\n",
              "      <th>view</th>\n",
              "      <th>condition</th>\n",
              "      <th>sqft_above</th>\n",
              "      <th>sqft_basement</th>\n",
              "      <th>yr_built</th>\n",
              "      <th>yr_renovated</th>\n",
              "      <th>street</th>\n",
              "      <th>statezip</th>\n",
              "      <th>country</th>\n",
              "    </tr>\n",
              "    <tr>\n",
              "      <th>date</th>\n",
              "      <th></th>\n",
              "      <th></th>\n",
              "      <th></th>\n",
              "      <th></th>\n",
              "      <th></th>\n",
              "      <th></th>\n",
              "      <th></th>\n",
              "      <th></th>\n",
              "      <th></th>\n",
              "      <th></th>\n",
              "      <th></th>\n",
              "      <th></th>\n",
              "      <th></th>\n",
              "      <th></th>\n",
              "      <th></th>\n",
              "      <th></th>\n",
              "    </tr>\n",
              "  </thead>\n",
              "  <tbody>\n",
              "    <tr>\n",
              "      <th>2014-05-02 00:00:00</th>\n",
              "      <td>2.384000e+06</td>\n",
              "      <td>5.0</td>\n",
              "      <td>2.50</td>\n",
              "      <td>3650</td>\n",
              "      <td>9050</td>\n",
              "      <td>2.0</td>\n",
              "      <td>0</td>\n",
              "      <td>4</td>\n",
              "      <td>5</td>\n",
              "      <td>3370</td>\n",
              "      <td>280</td>\n",
              "      <td>1921</td>\n",
              "      <td>0</td>\n",
              "      <td>709 W Blaine St</td>\n",
              "      <td>WA 98119</td>\n",
              "      <td>USA</td>\n",
              "    </tr>\n",
              "    <tr>\n",
              "      <th>2014-05-02 00:00:00</th>\n",
              "      <td>4.900000e+05</td>\n",
              "      <td>2.0</td>\n",
              "      <td>1.00</td>\n",
              "      <td>880</td>\n",
              "      <td>6380</td>\n",
              "      <td>1.0</td>\n",
              "      <td>0</td>\n",
              "      <td>0</td>\n",
              "      <td>3</td>\n",
              "      <td>880</td>\n",
              "      <td>0</td>\n",
              "      <td>1938</td>\n",
              "      <td>1994</td>\n",
              "      <td>522 NE 88th St</td>\n",
              "      <td>WA 98115</td>\n",
              "      <td>USA</td>\n",
              "    </tr>\n",
              "    <tr>\n",
              "      <th>2014-05-02 00:00:00</th>\n",
              "      <td>6.400000e+05</td>\n",
              "      <td>4.0</td>\n",
              "      <td>2.00</td>\n",
              "      <td>1520</td>\n",
              "      <td>6200</td>\n",
              "      <td>1.5</td>\n",
              "      <td>0</td>\n",
              "      <td>0</td>\n",
              "      <td>3</td>\n",
              "      <td>1520</td>\n",
              "      <td>0</td>\n",
              "      <td>1945</td>\n",
              "      <td>2010</td>\n",
              "      <td>6811 55th Ave NE</td>\n",
              "      <td>WA 98115</td>\n",
              "      <td>USA</td>\n",
              "    </tr>\n",
              "    <tr>\n",
              "      <th>2014-05-02 00:00:00</th>\n",
              "      <td>1.400000e+06</td>\n",
              "      <td>4.0</td>\n",
              "      <td>2.50</td>\n",
              "      <td>2920</td>\n",
              "      <td>4000</td>\n",
              "      <td>1.5</td>\n",
              "      <td>0</td>\n",
              "      <td>0</td>\n",
              "      <td>5</td>\n",
              "      <td>1910</td>\n",
              "      <td>1010</td>\n",
              "      <td>1909</td>\n",
              "      <td>1988</td>\n",
              "      <td>3838-4098 44th Ave NE</td>\n",
              "      <td>WA 98105</td>\n",
              "      <td>USA</td>\n",
              "    </tr>\n",
              "    <tr>\n",
              "      <th>2014-05-02 00:00:00</th>\n",
              "      <td>3.650000e+05</td>\n",
              "      <td>3.0</td>\n",
              "      <td>1.00</td>\n",
              "      <td>1090</td>\n",
              "      <td>6435</td>\n",
              "      <td>1.0</td>\n",
              "      <td>0</td>\n",
              "      <td>0</td>\n",
              "      <td>4</td>\n",
              "      <td>1090</td>\n",
              "      <td>0</td>\n",
              "      <td>1955</td>\n",
              "      <td>2009</td>\n",
              "      <td>2504 SW Portland Ct</td>\n",
              "      <td>WA 98106</td>\n",
              "      <td>USA</td>\n",
              "    </tr>\n",
              "    <tr>\n",
              "      <th>...</th>\n",
              "      <td>...</td>\n",
              "      <td>...</td>\n",
              "      <td>...</td>\n",
              "      <td>...</td>\n",
              "      <td>...</td>\n",
              "      <td>...</td>\n",
              "      <td>...</td>\n",
              "      <td>...</td>\n",
              "      <td>...</td>\n",
              "      <td>...</td>\n",
              "      <td>...</td>\n",
              "      <td>...</td>\n",
              "      <td>...</td>\n",
              "      <td>...</td>\n",
              "      <td>...</td>\n",
              "      <td>...</td>\n",
              "    </tr>\n",
              "    <tr>\n",
              "      <th>2014-07-07 00:00:00</th>\n",
              "      <td>4.060625e+05</td>\n",
              "      <td>2.0</td>\n",
              "      <td>1.00</td>\n",
              "      <td>1290</td>\n",
              "      <td>4650</td>\n",
              "      <td>1.0</td>\n",
              "      <td>0</td>\n",
              "      <td>0</td>\n",
              "      <td>4</td>\n",
              "      <td>1290</td>\n",
              "      <td>0</td>\n",
              "      <td>1906</td>\n",
              "      <td>1990</td>\n",
              "      <td>312 NE 81st St</td>\n",
              "      <td>WA 98115</td>\n",
              "      <td>USA</td>\n",
              "    </tr>\n",
              "    <tr>\n",
              "      <th>2014-07-07 00:00:00</th>\n",
              "      <td>4.868950e+05</td>\n",
              "      <td>3.0</td>\n",
              "      <td>1.00</td>\n",
              "      <td>1890</td>\n",
              "      <td>3330</td>\n",
              "      <td>1.5</td>\n",
              "      <td>0</td>\n",
              "      <td>0</td>\n",
              "      <td>4</td>\n",
              "      <td>1390</td>\n",
              "      <td>500</td>\n",
              "      <td>1901</td>\n",
              "      <td>0</td>\n",
              "      <td>4324 Dayton Ave N</td>\n",
              "      <td>WA 98103</td>\n",
              "      <td>USA</td>\n",
              "    </tr>\n",
              "    <tr>\n",
              "      <th>2014-07-08 00:00:00</th>\n",
              "      <td>3.961667e+05</td>\n",
              "      <td>3.0</td>\n",
              "      <td>1.75</td>\n",
              "      <td>1880</td>\n",
              "      <td>5752</td>\n",
              "      <td>1.0</td>\n",
              "      <td>0</td>\n",
              "      <td>0</td>\n",
              "      <td>4</td>\n",
              "      <td>940</td>\n",
              "      <td>940</td>\n",
              "      <td>1945</td>\n",
              "      <td>0</td>\n",
              "      <td>3529 SW Webster St</td>\n",
              "      <td>WA 98126</td>\n",
              "      <td>USA</td>\n",
              "    </tr>\n",
              "    <tr>\n",
              "      <th>2014-07-09 00:00:00</th>\n",
              "      <td>3.081667e+05</td>\n",
              "      <td>3.0</td>\n",
              "      <td>1.75</td>\n",
              "      <td>1510</td>\n",
              "      <td>6360</td>\n",
              "      <td>1.0</td>\n",
              "      <td>0</td>\n",
              "      <td>0</td>\n",
              "      <td>4</td>\n",
              "      <td>1510</td>\n",
              "      <td>0</td>\n",
              "      <td>1954</td>\n",
              "      <td>1979</td>\n",
              "      <td>501 N 143rd St</td>\n",
              "      <td>WA 98133</td>\n",
              "      <td>USA</td>\n",
              "    </tr>\n",
              "    <tr>\n",
              "      <th>2014-07-10 00:00:00</th>\n",
              "      <td>2.034000e+05</td>\n",
              "      <td>4.0</td>\n",
              "      <td>2.00</td>\n",
              "      <td>2090</td>\n",
              "      <td>6630</td>\n",
              "      <td>1.0</td>\n",
              "      <td>0</td>\n",
              "      <td>0</td>\n",
              "      <td>3</td>\n",
              "      <td>1070</td>\n",
              "      <td>1020</td>\n",
              "      <td>1974</td>\n",
              "      <td>0</td>\n",
              "      <td>5148 S Creston St</td>\n",
              "      <td>WA 98178</td>\n",
              "      <td>USA</td>\n",
              "    </tr>\n",
              "  </tbody>\n",
              "</table>\n",
              "<p>1573 rows × 16 columns</p>\n",
              "</div>"
            ],
            "text/plain": [
              "                            price  bedrooms  bathrooms  sqft_living  sqft_lot  \\\n",
              "date                                                                            \n",
              "2014-05-02 00:00:00  2.384000e+06       5.0       2.50         3650      9050   \n",
              "2014-05-02 00:00:00  4.900000e+05       2.0       1.00          880      6380   \n",
              "2014-05-02 00:00:00  6.400000e+05       4.0       2.00         1520      6200   \n",
              "2014-05-02 00:00:00  1.400000e+06       4.0       2.50         2920      4000   \n",
              "2014-05-02 00:00:00  3.650000e+05       3.0       1.00         1090      6435   \n",
              "...                           ...       ...        ...          ...       ...   \n",
              "2014-07-07 00:00:00  4.060625e+05       2.0       1.00         1290      4650   \n",
              "2014-07-07 00:00:00  4.868950e+05       3.0       1.00         1890      3330   \n",
              "2014-07-08 00:00:00  3.961667e+05       3.0       1.75         1880      5752   \n",
              "2014-07-09 00:00:00  3.081667e+05       3.0       1.75         1510      6360   \n",
              "2014-07-10 00:00:00  2.034000e+05       4.0       2.00         2090      6630   \n",
              "\n",
              "                     floors  waterfront  view  condition  sqft_above  \\\n",
              "date                                                                   \n",
              "2014-05-02 00:00:00     2.0           0     4          5        3370   \n",
              "2014-05-02 00:00:00     1.0           0     0          3         880   \n",
              "2014-05-02 00:00:00     1.5           0     0          3        1520   \n",
              "2014-05-02 00:00:00     1.5           0     0          5        1910   \n",
              "2014-05-02 00:00:00     1.0           0     0          4        1090   \n",
              "...                     ...         ...   ...        ...         ...   \n",
              "2014-07-07 00:00:00     1.0           0     0          4        1290   \n",
              "2014-07-07 00:00:00     1.5           0     0          4        1390   \n",
              "2014-07-08 00:00:00     1.0           0     0          4         940   \n",
              "2014-07-09 00:00:00     1.0           0     0          4        1510   \n",
              "2014-07-10 00:00:00     1.0           0     0          3        1070   \n",
              "\n",
              "                     sqft_basement  yr_built  yr_renovated  \\\n",
              "date                                                         \n",
              "2014-05-02 00:00:00            280      1921             0   \n",
              "2014-05-02 00:00:00              0      1938          1994   \n",
              "2014-05-02 00:00:00              0      1945          2010   \n",
              "2014-05-02 00:00:00           1010      1909          1988   \n",
              "2014-05-02 00:00:00              0      1955          2009   \n",
              "...                            ...       ...           ...   \n",
              "2014-07-07 00:00:00              0      1906          1990   \n",
              "2014-07-07 00:00:00            500      1901             0   \n",
              "2014-07-08 00:00:00            940      1945             0   \n",
              "2014-07-09 00:00:00              0      1954          1979   \n",
              "2014-07-10 00:00:00           1020      1974             0   \n",
              "\n",
              "                                    street  statezip country  \n",
              "date                                                          \n",
              "2014-05-02 00:00:00        709 W Blaine St  WA 98119     USA  \n",
              "2014-05-02 00:00:00         522 NE 88th St  WA 98115     USA  \n",
              "2014-05-02 00:00:00       6811 55th Ave NE  WA 98115     USA  \n",
              "2014-05-02 00:00:00  3838-4098 44th Ave NE  WA 98105     USA  \n",
              "2014-05-02 00:00:00    2504 SW Portland Ct  WA 98106     USA  \n",
              "...                                    ...       ...     ...  \n",
              "2014-07-07 00:00:00         312 NE 81st St  WA 98115     USA  \n",
              "2014-07-07 00:00:00      4324 Dayton Ave N  WA 98103     USA  \n",
              "2014-07-08 00:00:00     3529 SW Webster St  WA 98126     USA  \n",
              "2014-07-09 00:00:00         501 N 143rd St  WA 98133     USA  \n",
              "2014-07-10 00:00:00      5148 S Creston St  WA 98178     USA  \n",
              "\n",
              "[1573 rows x 16 columns]"
            ]
          },
          "execution_count": 41,
          "metadata": {},
          "output_type": "execute_result"
        }
      ],
      "source": [
        "df.loc['Seattle']"
      ]
    },
    {
      "cell_type": "code",
      "execution_count": 42,
      "metadata": {},
      "outputs": [
        {
          "data": {
            "text/html": [
              "<div>\n",
              "<style scoped>\n",
              "    .dataframe tbody tr th:only-of-type {\n",
              "        vertical-align: middle;\n",
              "    }\n",
              "\n",
              "    .dataframe tbody tr th {\n",
              "        vertical-align: top;\n",
              "    }\n",
              "\n",
              "    .dataframe thead th {\n",
              "        text-align: right;\n",
              "    }\n",
              "</style>\n",
              "<table border=\"1\" class=\"dataframe\">\n",
              "  <thead>\n",
              "    <tr style=\"text-align: right;\">\n",
              "      <th></th>\n",
              "      <th>price</th>\n",
              "      <th>bedrooms</th>\n",
              "      <th>bathrooms</th>\n",
              "      <th>sqft_living</th>\n",
              "      <th>sqft_lot</th>\n",
              "      <th>floors</th>\n",
              "      <th>waterfront</th>\n",
              "      <th>view</th>\n",
              "      <th>condition</th>\n",
              "      <th>sqft_above</th>\n",
              "      <th>sqft_basement</th>\n",
              "      <th>yr_built</th>\n",
              "      <th>yr_renovated</th>\n",
              "      <th>street</th>\n",
              "      <th>statezip</th>\n",
              "      <th>country</th>\n",
              "    </tr>\n",
              "    <tr>\n",
              "      <th>date</th>\n",
              "      <th></th>\n",
              "      <th></th>\n",
              "      <th></th>\n",
              "      <th></th>\n",
              "      <th></th>\n",
              "      <th></th>\n",
              "      <th></th>\n",
              "      <th></th>\n",
              "      <th></th>\n",
              "      <th></th>\n",
              "      <th></th>\n",
              "      <th></th>\n",
              "      <th></th>\n",
              "      <th></th>\n",
              "      <th></th>\n",
              "      <th></th>\n",
              "    </tr>\n",
              "  </thead>\n",
              "  <tbody>\n",
              "    <tr>\n",
              "      <th>2014-07-10 00:00:00</th>\n",
              "      <td>775000.0</td>\n",
              "      <td>6.0</td>\n",
              "      <td>2.75</td>\n",
              "      <td>2980</td>\n",
              "      <td>5000</td>\n",
              "      <td>1.5</td>\n",
              "      <td>0</td>\n",
              "      <td>0</td>\n",
              "      <td>3</td>\n",
              "      <td>2480</td>\n",
              "      <td>500</td>\n",
              "      <td>1916</td>\n",
              "      <td>1986</td>\n",
              "      <td>5428 Kirkwood Pl N</td>\n",
              "      <td>WA 98103</td>\n",
              "      <td>USA</td>\n",
              "    </tr>\n",
              "    <tr>\n",
              "      <th>2014-07-10 00:00:00</th>\n",
              "      <td>725000.0</td>\n",
              "      <td>2.0</td>\n",
              "      <td>1.75</td>\n",
              "      <td>1950</td>\n",
              "      <td>2719</td>\n",
              "      <td>1.0</td>\n",
              "      <td>0</td>\n",
              "      <td>0</td>\n",
              "      <td>5</td>\n",
              "      <td>1010</td>\n",
              "      <td>940</td>\n",
              "      <td>1919</td>\n",
              "      <td>1934</td>\n",
              "      <td>3609-3615 Whitman Ave N</td>\n",
              "      <td>WA 98103</td>\n",
              "      <td>USA</td>\n",
              "    </tr>\n",
              "    <tr>\n",
              "      <th>2014-07-10 00:00:00</th>\n",
              "      <td>350000.0</td>\n",
              "      <td>4.0</td>\n",
              "      <td>1.00</td>\n",
              "      <td>1170</td>\n",
              "      <td>8147</td>\n",
              "      <td>1.5</td>\n",
              "      <td>0</td>\n",
              "      <td>0</td>\n",
              "      <td>3</td>\n",
              "      <td>1170</td>\n",
              "      <td>0</td>\n",
              "      <td>1959</td>\n",
              "      <td>1989</td>\n",
              "      <td>3611 NE 137th St</td>\n",
              "      <td>WA 98125</td>\n",
              "      <td>USA</td>\n",
              "    </tr>\n",
              "    <tr>\n",
              "      <th>2014-07-10 00:00:00</th>\n",
              "      <td>639000.0</td>\n",
              "      <td>4.0</td>\n",
              "      <td>2.00</td>\n",
              "      <td>1840</td>\n",
              "      <td>5419</td>\n",
              "      <td>1.0</td>\n",
              "      <td>0</td>\n",
              "      <td>0</td>\n",
              "      <td>4</td>\n",
              "      <td>920</td>\n",
              "      <td>920</td>\n",
              "      <td>1942</td>\n",
              "      <td>1982</td>\n",
              "      <td>3051 36th Ave W</td>\n",
              "      <td>WA 98199</td>\n",
              "      <td>USA</td>\n",
              "    </tr>\n",
              "    <tr>\n",
              "      <th>2014-07-10 00:00:00</th>\n",
              "      <td>800000.0</td>\n",
              "      <td>3.0</td>\n",
              "      <td>2.75</td>\n",
              "      <td>2220</td>\n",
              "      <td>4000</td>\n",
              "      <td>2.0</td>\n",
              "      <td>0</td>\n",
              "      <td>0</td>\n",
              "      <td>3</td>\n",
              "      <td>1700</td>\n",
              "      <td>520</td>\n",
              "      <td>1914</td>\n",
              "      <td>2000</td>\n",
              "      <td>1718 32nd Ave</td>\n",
              "      <td>WA 98122</td>\n",
              "      <td>USA</td>\n",
              "    </tr>\n",
              "    <tr>\n",
              "      <th>2014-07-10 00:00:00</th>\n",
              "      <td>279000.0</td>\n",
              "      <td>2.0</td>\n",
              "      <td>1.00</td>\n",
              "      <td>670</td>\n",
              "      <td>6300</td>\n",
              "      <td>1.0</td>\n",
              "      <td>0</td>\n",
              "      <td>0</td>\n",
              "      <td>5</td>\n",
              "      <td>670</td>\n",
              "      <td>0</td>\n",
              "      <td>1942</td>\n",
              "      <td>0</td>\n",
              "      <td>9716 33rd Ave SW</td>\n",
              "      <td>WA 98126</td>\n",
              "      <td>USA</td>\n",
              "    </tr>\n",
              "    <tr>\n",
              "      <th>2014-07-10 00:00:00</th>\n",
              "      <td>880000.0</td>\n",
              "      <td>6.0</td>\n",
              "      <td>2.50</td>\n",
              "      <td>2640</td>\n",
              "      <td>3680</td>\n",
              "      <td>2.0</td>\n",
              "      <td>0</td>\n",
              "      <td>0</td>\n",
              "      <td>5</td>\n",
              "      <td>1760</td>\n",
              "      <td>880</td>\n",
              "      <td>1922</td>\n",
              "      <td>1956</td>\n",
              "      <td>3008 38th Ave SW</td>\n",
              "      <td>WA 98126</td>\n",
              "      <td>USA</td>\n",
              "    </tr>\n",
              "    <tr>\n",
              "      <th>2014-07-10 00:00:00</th>\n",
              "      <td>670000.0</td>\n",
              "      <td>3.0</td>\n",
              "      <td>2.50</td>\n",
              "      <td>2700</td>\n",
              "      <td>1438</td>\n",
              "      <td>2.0</td>\n",
              "      <td>0</td>\n",
              "      <td>0</td>\n",
              "      <td>3</td>\n",
              "      <td>1280</td>\n",
              "      <td>1420</td>\n",
              "      <td>2003</td>\n",
              "      <td>0</td>\n",
              "      <td>746 Boylston Ave E</td>\n",
              "      <td>WA 98102</td>\n",
              "      <td>USA</td>\n",
              "    </tr>\n",
              "    <tr>\n",
              "      <th>2014-07-10 00:00:00</th>\n",
              "      <td>203400.0</td>\n",
              "      <td>4.0</td>\n",
              "      <td>2.00</td>\n",
              "      <td>2090</td>\n",
              "      <td>6630</td>\n",
              "      <td>1.0</td>\n",
              "      <td>0</td>\n",
              "      <td>0</td>\n",
              "      <td>3</td>\n",
              "      <td>1070</td>\n",
              "      <td>1020</td>\n",
              "      <td>1974</td>\n",
              "      <td>0</td>\n",
              "      <td>5148 S Creston St</td>\n",
              "      <td>WA 98178</td>\n",
              "      <td>USA</td>\n",
              "    </tr>\n",
              "  </tbody>\n",
              "</table>\n",
              "</div>"
            ],
            "text/plain": [
              "                        price  bedrooms  bathrooms  sqft_living  sqft_lot  \\\n",
              "date                                                                        \n",
              "2014-07-10 00:00:00  775000.0       6.0       2.75         2980      5000   \n",
              "2014-07-10 00:00:00  725000.0       2.0       1.75         1950      2719   \n",
              "2014-07-10 00:00:00  350000.0       4.0       1.00         1170      8147   \n",
              "2014-07-10 00:00:00  639000.0       4.0       2.00         1840      5419   \n",
              "2014-07-10 00:00:00  800000.0       3.0       2.75         2220      4000   \n",
              "2014-07-10 00:00:00  279000.0       2.0       1.00          670      6300   \n",
              "2014-07-10 00:00:00  880000.0       6.0       2.50         2640      3680   \n",
              "2014-07-10 00:00:00  670000.0       3.0       2.50         2700      1438   \n",
              "2014-07-10 00:00:00  203400.0       4.0       2.00         2090      6630   \n",
              "\n",
              "                     floors  waterfront  view  condition  sqft_above  \\\n",
              "date                                                                   \n",
              "2014-07-10 00:00:00     1.5           0     0          3        2480   \n",
              "2014-07-10 00:00:00     1.0           0     0          5        1010   \n",
              "2014-07-10 00:00:00     1.5           0     0          3        1170   \n",
              "2014-07-10 00:00:00     1.0           0     0          4         920   \n",
              "2014-07-10 00:00:00     2.0           0     0          3        1700   \n",
              "2014-07-10 00:00:00     1.0           0     0          5         670   \n",
              "2014-07-10 00:00:00     2.0           0     0          5        1760   \n",
              "2014-07-10 00:00:00     2.0           0     0          3        1280   \n",
              "2014-07-10 00:00:00     1.0           0     0          3        1070   \n",
              "\n",
              "                     sqft_basement  yr_built  yr_renovated  \\\n",
              "date                                                         \n",
              "2014-07-10 00:00:00            500      1916          1986   \n",
              "2014-07-10 00:00:00            940      1919          1934   \n",
              "2014-07-10 00:00:00              0      1959          1989   \n",
              "2014-07-10 00:00:00            920      1942          1982   \n",
              "2014-07-10 00:00:00            520      1914          2000   \n",
              "2014-07-10 00:00:00              0      1942             0   \n",
              "2014-07-10 00:00:00            880      1922          1956   \n",
              "2014-07-10 00:00:00           1420      2003             0   \n",
              "2014-07-10 00:00:00           1020      1974             0   \n",
              "\n",
              "                                      street  statezip country  \n",
              "date                                                            \n",
              "2014-07-10 00:00:00       5428 Kirkwood Pl N  WA 98103     USA  \n",
              "2014-07-10 00:00:00  3609-3615 Whitman Ave N  WA 98103     USA  \n",
              "2014-07-10 00:00:00         3611 NE 137th St  WA 98125     USA  \n",
              "2014-07-10 00:00:00          3051 36th Ave W  WA 98199     USA  \n",
              "2014-07-10 00:00:00            1718 32nd Ave  WA 98122     USA  \n",
              "2014-07-10 00:00:00         9716 33rd Ave SW  WA 98126     USA  \n",
              "2014-07-10 00:00:00         3008 38th Ave SW  WA 98126     USA  \n",
              "2014-07-10 00:00:00       746 Boylston Ave E  WA 98102     USA  \n",
              "2014-07-10 00:00:00        5148 S Creston St  WA 98178     USA  "
            ]
          },
          "execution_count": 42,
          "metadata": {},
          "output_type": "execute_result"
        }
      ],
      "source": [
        "df.loc['Seattle'].loc['2014-07-10 00:00:00']"
      ]
    },
    {
      "cell_type": "markdown",
      "metadata": {},
      "source": [
        "### Common Functions"
      ]
    },
    {
      "cell_type": "markdown",
      "metadata": {},
      "source": [
        "#### Categories\n",
        "\n",
        "1. General Functions\n",
        "    a. pivot()  : returns a reshaped DataFrame by index or column values\n",
        "    b. isna(obj) : Detects missing values from an array-like object\n",
        "    c. to_numeric() : converts the argument to numeric\n",
        "2. Input or Output functions\n",
        "    a. read_excel()\n",
        "    b. DataFrame.to_excel()\n",
        "    c. read_json()\n",
        "    d. to_json    \n",
        "3. Series functions :\n",
        "    a. copy()\n",
        "    b. iloc()\n",
        "    c. add()\n",
        "    d. mul, sub\n",
        "    e. info, values, size\n",
        "    f. where()\n",
        "    g.iterrows()\n",
        "    h. head()\n",
        "4. DataFrame functions\n",
        "5. Resampling \n",
        "6. Plotting"
      ]
    },
    {
      "attachments": {},
      "cell_type": "markdown",
      "metadata": {},
      "source": [
        "### Statistical function\n",
        "1. mean()\n",
        "2. median()\n",
        "3. mode()\n",
        "4. sum()\n",
        "5. Std()\n",
        "6. cov()\n",
        "7. corr()\n",
        "8. skew()\n",
        "9. Kurt()\n",
        "10. Kurtosis()\n",
        "11. describe() : min,max,count,std, 25%, 50%,75%"
      ]
    },
    {
      "attachments": {},
      "cell_type": "markdown",
      "metadata": {},
      "source": [
        "### Date and Timedelta\n",
        "1. date_range() : returns DateTimeIndex\n",
        "attributes: day, date, month, hour, minute, ms, timetz, dayofweek, is_month\n",
        "functions: strftime(), to_series(), to_frame\n",
        "\n",
        "2. timedelta  : This object represents a duration, the difference two dates ot time values\n",
        "attributes : days, timedelta, micro seconds, seconds\n",
        "functions : isoformat(), to_pytimedelta() \n"
      ]
    },
    {
      "attachments": {},
      "cell_type": "markdown",
      "metadata": {},
      "source": [
        "### Categical Data :\n",
        "by default unordered"
      ]
    },
    {
      "attachments": {},
      "cell_type": "markdown",
      "metadata": {},
      "source": [
        "### Iterate and Extract Data:\n",
        "Index(), loc(), iloc(), iterrows(), itertuples(), apply()\n"
      ]
    }
  ],
  "metadata": {
    "colab": {
      "provenance": []
    },
    "kernelspec": {
      "display_name": "dl",
      "language": "python",
      "name": "python3"
    },
    "language_info": {
      "codemirror_mode": {
        "name": "ipython",
        "version": 3
      },
      "file_extension": ".py",
      "mimetype": "text/x-python",
      "name": "python",
      "nbconvert_exporter": "python",
      "pygments_lexer": "ipython3",
      "version": "3.10.6"
    },
    "vscode": {
      "interpreter": {
        "hash": "18929569e38801db6e16cfadea6bcb2eff83da5f43e2853903b379473984d1c3"
      }
    }
  },
  "nbformat": 4,
  "nbformat_minor": 0
}

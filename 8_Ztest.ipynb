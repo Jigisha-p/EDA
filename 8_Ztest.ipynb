{
 "cells": [
  {
   "attachments": {},
   "cell_type": "markdown",
   "metadata": {},
   "source": [
    "used to compare sampe mean with population mean<br>\n",
    "same as t test . Z-test is applied when sample size > 32\n",
    "1. 1 sample\n",
    "2. 2 samples"
   ]
  },
  {
   "cell_type": "code",
   "execution_count": 1,
   "metadata": {},
   "outputs": [],
   "source": [
    "import random\n",
    "random.seed(20)\n",
    "from statsmodels.stats.weightstats import ztest as ztest\n",
    "\n"
   ]
  },
  {
   "attachments": {},
   "cell_type": "markdown",
   "metadata": {},
   "source": [
    "## One sample Z-test\n",
    "\n",
    "\n",
    "Let doctor know that generally IQ is with \n",
    "\n",
    "mean $ \\mu =100  $  and<br>\n",
    "std $ \\sigma =15 $\n",
    "\n",
    "He creates a drug and wants to see if drug has impact on IQ\n",
    "\n",
    "create a random sample he recorded"
   ]
  },
  {
   "cell_type": "code",
   "execution_count": 2,
   "metadata": {},
   "outputs": [],
   "source": [
    "a=[random.gauss(100,15) for x in range(40)]"
   ]
  },
  {
   "attachments": {},
   "cell_type": "markdown",
   "metadata": {},
   "source": [
    " H0 : mean of the sample is same value as we provide the value\n",
    " that means drug didnot work\n",
    "\n",
    " H1:if it is not same as mean that means drug works"
   ]
  },
  {
   "cell_type": "code",
   "execution_count": 3,
   "metadata": {},
   "outputs": [
    {
     "data": {
      "text/plain": [
       "(1.3430675401429018, 0.17925010504664385)"
      ]
     },
     "execution_count": 3,
     "metadata": {},
     "output_type": "execute_result"
    }
   ],
   "source": [
    "ztest(a,value=100)"
   ]
  },
  {
   "attachments": {},
   "cell_type": "markdown",
   "metadata": {},
   "source": [
    "the value is greater than 0.05 : means we have to accept the null hypothesis\n",
    "i.e. drug didnot work\n",
    "\n"
   ]
  },
  {
   "cell_type": "code",
   "execution_count": 4,
   "metadata": {},
   "outputs": [],
   "source": [
    "# sample1\n",
    "a=[random.gauss(120,15) for x in range(40)]"
   ]
  },
  {
   "cell_type": "code",
   "execution_count": 5,
   "metadata": {},
   "outputs": [
    {
     "data": {
      "text/plain": [
       "(7.8519708903183885, 2.047747825025016e-15)"
      ]
     },
     "execution_count": 5,
     "metadata": {},
     "output_type": "execute_result"
    }
   ],
   "source": [
    "# we want to see if the IQ is greater than the mean value\n",
    "ztest(a,value=100,alternative='larger')"
   ]
  },
  {
   "cell_type": "markdown",
   "metadata": {},
   "source": [
    "value is very small \n",
    "we reject the null hypothesis\n",
    "this means that drug actually worked"
   ]
  },
  {
   "cell_type": "code",
   "execution_count": 6,
   "metadata": {},
   "outputs": [],
   "source": [
    "# sample2\n",
    "#less IQ value\n",
    "a=[random.gauss(80,15) for x in range(40)]"
   ]
  },
  {
   "cell_type": "code",
   "execution_count": 7,
   "metadata": {},
   "outputs": [
    {
     "data": {
      "text/plain": [
       "(-8.827369053119002, 5.358336411467834e-19)"
      ]
     },
     "execution_count": 7,
     "metadata": {},
     "output_type": "execute_result"
    }
   ],
   "source": [
    "# we want to see if the IQ is less than the mean value\n",
    "ztest(a,value=100,alternative='smaller')"
   ]
  },
  {
   "cell_type": "markdown",
   "metadata": {},
   "source": [
    "value is very small \n",
    "we reject the null hypothesis\n",
    "this means that mean is less than value\n",
    "drug actually deteriorated IQ value"
   ]
  },
  {
   "attachments": {},
   "cell_type": "markdown",
   "metadata": {},
   "source": [
    "## Two sample Z test\n",
    "\n",
    "H0: To check if IQs in two cities are different"
   ]
  },
  {
   "cell_type": "code",
   "execution_count": 8,
   "metadata": {},
   "outputs": [],
   "source": [
    "# two data samples\n",
    "a=[random.gauss(100,15) for x in range(40)] # city1 has average 100 IQ\n",
    "b=[random.gauss(120,15) for x in range(40)] # city2 has average 120 IQ"
   ]
  },
  {
   "cell_type": "code",
   "execution_count": 9,
   "metadata": {},
   "outputs": [
    {
     "data": {
      "text/plain": [
       "(-6.408309427449128, 1.4714204928391318e-10)"
      ]
     },
     "execution_count": 9,
     "metadata": {},
     "output_type": "execute_result"
    }
   ],
   "source": [
    "ztest(a,b,value=0)"
   ]
  },
  {
   "attachments": {},
   "cell_type": "markdown",
   "metadata": {},
   "source": [
    "p value is very small, we reject null hypotheses\n",
    "IQs are not the same"
   ]
  },
  {
   "cell_type": "code",
   "execution_count": 10,
   "metadata": {},
   "outputs": [],
   "source": [
    "# two data samples\n",
    "a=[random.gauss(100,15) for x in range(40)] # city1 has average 100 IQ\n",
    "b=[random.gauss(100,15) for x in range(40)] # city2 has average 120"
   ]
  },
  {
   "cell_type": "code",
   "execution_count": 11,
   "metadata": {},
   "outputs": [
    {
     "data": {
      "text/plain": [
       "(-0.32089978531778995, 0.7482863366289499)"
      ]
     },
     "execution_count": 11,
     "metadata": {},
     "output_type": "execute_result"
    }
   ],
   "source": [
    "ztest(a,b,value=0)"
   ]
  },
  {
   "cell_type": "markdown",
   "metadata": {},
   "source": [
    "p-value is > 0.05 , we accept null hypothesis, IQs are same"
   ]
  }
 ],
 "metadata": {
  "kernelspec": {
   "display_name": "lewagon",
   "language": "python",
   "name": "python3"
  },
  "language_info": {
   "codemirror_mode": {
    "name": "ipython",
    "version": 3
   },
   "file_extension": ".py",
   "mimetype": "text/x-python",
   "name": "python",
   "nbconvert_exporter": "python",
   "pygments_lexer": "ipython3",
   "version": "3.10.6"
  },
  "orig_nbformat": 4,
  "vscode": {
   "interpreter": {
    "hash": "b8e9e1d71f6386c245666132b506ec567764a0fc3ec5de1a9107b69a4d1c05f5"
   }
  }
 },
 "nbformat": 4,
 "nbformat_minor": 2
}
